{
 "cells": [
  {
   "cell_type": "code",
   "execution_count": 1,
   "id": "bb664559-b398-46a7-867e-9ca583b797cc",
   "metadata": {},
   "outputs": [],
   "source": [
    "from llama import Llama\n",
    "import torch\n",
    "from collections import defaultdict"
   ]
  },
  {
   "cell_type": "code",
   "execution_count": 2,
   "id": "24a1672a-a2e9-46ba-9d6c-de66f554405e",
   "metadata": {},
   "outputs": [],
   "source": [
    "class MyHook:\n",
    "    def post(self, layer_id, layer_name, x):\n",
    "        if self.should_transform(layer_id, layer_name):\n",
    "            x = self.transform(layer_id, layer_name, x)\n",
    "        return x"
   ]
  },
  {
   "cell_type": "code",
   "execution_count": 3,
   "id": "6d7c1762-32c4-4763-88bc-c2fff9aeaccb",
   "metadata": {},
   "outputs": [
    {
     "name": "stdout",
     "output_type": "stream",
     "text": [
      "> initializing model parallel with size 1\n",
      "> initializing ddp with size 1\n",
      "> initializing pipeline with size 1\n",
      "Loaded in 14.39 seconds\n"
     ]
    }
   ],
   "source": [
    "generator = Llama.build(\n",
    "    ckpt_dir=\"/workspace/llama-2-7b/\",\n",
    "    tokenizer_path=\"/workspace/llama-2-7b/tokenizer.model\",\n",
    "    max_seq_len=512,\n",
    "    max_batch_size=16,\n",
    "    hook=MyHook()\n",
    ")"
   ]
  },
  {
   "cell_type": "code",
   "execution_count": 4,
   "id": "cec3d193-df08-4bfa-bff1-293344d8840e",
   "metadata": {},
   "outputs": [],
   "source": [
    "from contextlib import contextmanager\n",
    "\n",
    "@contextmanager\n",
    "def with_hook(model, transform):\n",
    "    model.hook.should_transform = lambda layer_id, layer_name: True\n",
    "    model.hook.transform = transform\n",
    "    try:\n",
    "        yield\n",
    "    finally:\n",
    "        model.hook.transform = lambda layer_id, layer_name, x: x"
   ]
  },
  {
   "cell_type": "code",
   "execution_count": 5,
   "id": "ffe1e94f-7436-4c78-aa79-562a600ce2b9",
   "metadata": {},
   "outputs": [],
   "source": [
    "@contextmanager\n",
    "def with_zero_out(model, layer_id):\n",
    "    def transform(id, layer_name, x):\n",
    "        if id == layer_id and layer_name in [\"attn\", \"ffn\"]:\n",
    "            return torch.zeros_like(x)\n",
    "        return x\n",
    "        \n",
    "    with with_hook(model, transform):\n",
    "        yield"
   ]
  },
  {
   "cell_type": "code",
   "execution_count": 6,
   "id": "3256a3ca-1ab6-40e5-8ba5-24601f5eff91",
   "metadata": {},
   "outputs": [],
   "source": [
    "def predict(gen, prompt):\n",
    "    tokens = gen.tokenizer.encode(prompt, bos=True, eos=False)\n",
    "    tokens = torch.tensor([tokens], dtype=torch.long, device='cuda')\n",
    "\n",
    "    logits = gen.model.forward(tokens, 0)\n",
    "    probs = torch.softmax(logits, dim=-1)[0, -1]\n",
    "    return probs"
   ]
  },
  {
   "cell_type": "code",
   "execution_count": 7,
   "id": "8647bbc4-ff76-40a3-84af-0c746e3373e9",
   "metadata": {},
   "outputs": [],
   "source": [
    "def predict_with_activations(gen, prompt, opt_transform=None):\n",
    "    activations = {}\n",
    "    def transform(layer_id, layer_name, x):\n",
    "        if opt_transform:\n",
    "            x = opt_transform(layer_id, layer_name, x)\n",
    "        activations[f\"{layer_name}.{layer_id}\"] = x.detach().cpu()\n",
    "        return x\n",
    "        \n",
    "    with with_hook(gen.model, transform):\n",
    "        probs = predict(gen, prompt)\n",
    "    return probs, activations"
   ]
  },
  {
   "cell_type": "code",
   "execution_count": 8,
   "id": "9cc085a3-a259-400d-9115-26901e8426fa",
   "metadata": {},
   "outputs": [],
   "source": [
    "mean_embedding = generator.model.tok_embeddings.weight.mean(dim=0)"
   ]
  },
  {
   "cell_type": "code",
   "execution_count": 85,
   "id": "084759d5-ed82-4cd3-b9bf-0df66f369151",
   "metadata": {},
   "outputs": [],
   "source": [
    "embedding_std = generator.model.tok_embeddings.weight.std(dim=0).mean().item()"
   ]
  },
  {
   "cell_type": "code",
   "execution_count": 126,
   "id": "6c06e7f0-899f-4a26-90b9-795980090cff",
   "metadata": {},
   "outputs": [],
   "source": [
    "def predict_with_noise(gen, prompt, noise_std, token_positions):\n",
    "    def transform(layer_id, layer_name, x):\n",
    "        if layer_id == 0 and layer_name == \"emb\":\n",
    "            x[0, token_positions] += torch.randn_like(x[0, token_positions]) * noise_std\n",
    "            # for pos in token_positions:\n",
    "            #     x[0, pos] = mean_embedding\n",
    "        return x\n",
    "\n",
    "    return predict_with_activations(gen, prompt, transform)"
   ]
  },
  {
   "cell_type": "code",
   "execution_count": 127,
   "id": "76d950a4-2625-48a4-90f8-25c0197090ed",
   "metadata": {},
   "outputs": [],
   "source": [
    "# @contextmanager\n",
    "# def with_activations(model, activations, token_positions=None):\n",
    "#     def transform(layer_id, layer_name, x):\n",
    "#         key = f\"{layer_name}.{layer_id}\"\n",
    "#         if key not in activations:\n",
    "#             return x\n",
    "\n",
    "#         other_activations = activations[key].to(x.device)\n",
    "#         if token_positions is None:\n",
    "#             positions = list(range(x.shape[1]))\n",
    "#         else:\n",
    "#             positions = token_positions\n",
    "#         x[0, token_positions] = other_activations[0, token_positions]\n",
    "#         return x\n",
    "        \n",
    "#     with with_hook(model, transform):\n",
    "#         yield"
   ]
  },
  {
   "cell_type": "code",
   "execution_count": 128,
   "id": "9f334cef-8b56-4f95-ae26-0eaf5b2ffa83",
   "metadata": {},
   "outputs": [],
   "source": [
    "import numpy as np\n",
    "def find_subarray(main_array, sub_array):\n",
    "    sub_array_length = len(sub_array)\n",
    "    for i in range(len(main_array)):\n",
    "        if np.array_equal(main_array[i:i+sub_array_length], sub_array):\n",
    "            return i, i+sub_array_length\n",
    "    return -1, -1"
   ]
  },
  {
   "cell_type": "code",
   "execution_count": 129,
   "id": "85277ebd-4efc-4bc9-a3bf-d704c98440c1",
   "metadata": {},
   "outputs": [],
   "source": [
    "prompt = \"The Space Needle is in downtown\"\n",
    "prompt_tokens = generator.tokenizer.encode(prompt, bos=True, eos=False)\n",
    "expected_pred_token = generator.tokenizer.encode(\"Seattle\", bos=False, eos=False)[0]\n",
    "entity = \"The Space Needle\"\n",
    "entity_tokens = generator.tokenizer.encode(entity, bos=False, eos=False)"
   ]
  },
  {
   "cell_type": "code",
   "execution_count": 130,
   "id": "d1e77f52-87b0-4472-8c02-6e7e05a87122",
   "metadata": {},
   "outputs": [],
   "source": [
    "probs_clean, activations_clean = predict_with_activations(generator, prompt)"
   ]
  },
  {
   "cell_type": "code",
   "execution_count": 131,
   "id": "cdb21005-0fbf-48ba-95fa-8a041bd61552",
   "metadata": {},
   "outputs": [
    {
     "data": {
      "text/plain": [
       "'Seattle'"
      ]
     },
     "execution_count": 131,
     "metadata": {},
     "output_type": "execute_result"
    }
   ],
   "source": [
    "generator.tokenizer.decode([probs_clean.argmax().item()])"
   ]
  },
  {
   "cell_type": "code",
   "execution_count": 132,
   "id": "d23ad7c1-1df6-4832-b177-8b2e347e016d",
   "metadata": {},
   "outputs": [
    {
     "data": {
      "text/plain": [
       "tensor(0.9721, dtype=torch.float32)"
      ]
     },
     "execution_count": 132,
     "metadata": {},
     "output_type": "execute_result"
    }
   ],
   "source": [
    "probs_clean[expected_pred_token]"
   ]
  },
  {
   "cell_type": "code",
   "execution_count": 133,
   "id": "526a96b2-f666-4bb4-8c8d-0511a1c50097",
   "metadata": {},
   "outputs": [],
   "source": [
    "probs_noise, activations_noise = predict_with_noise(\n",
    "    generator, \n",
    "    prompt,\n",
    "    noise_std=3*embedding_std,\n",
    "    token_positions=list(range(*find_subarray(prompt_tokens, entity_tokens)))\n",
    ")"
   ]
  },
  {
   "cell_type": "code",
   "execution_count": 110,
   "id": "97b98808-b33b-41c2-8642-dde75775e8df",
   "metadata": {},
   "outputs": [
    {
     "data": {
      "text/plain": [
       "'is'"
      ]
     },
     "execution_count": 110,
     "metadata": {},
     "output_type": "execute_result"
    }
   ],
   "source": [
    "generator.tokenizer.decode([probs_noise.argmax().item()])"
   ]
  },
  {
   "cell_type": "code",
   "execution_count": 111,
   "id": "5c2fb71b-48ac-479b-990e-b0d96a2fa7a8",
   "metadata": {},
   "outputs": [
    {
     "data": {
      "text/plain": [
       "tensor(8.3780e-07, dtype=torch.float32)"
      ]
     },
     "execution_count": 111,
     "metadata": {},
     "output_type": "execute_result"
    }
   ],
   "source": [
    "probs_noise[expected_pred_token]"
   ]
  },
  {
   "cell_type": "code",
   "execution_count": 112,
   "id": "bf61e32e-87f7-478f-a05f-3716c44f53ff",
   "metadata": {},
   "outputs": [],
   "source": [
    "@contextmanager\n",
    "def with_denoised_activations(model, activations_clean, activations_noise, replace_layer_id, token_positions, layer_range=0):\n",
    "    def transform(layer_id, layer_name, x):\n",
    "        if layer_name != \"resid_out\":\n",
    "            return x\n",
    "\n",
    "        k = f\"{layer_name}.{layer_id}\"\n",
    "        if layer_id < replace_layer_id - layer_range:\n",
    "            return activations_noise[k].to(x.device)\n",
    "\n",
    "        if layer_id > replace_layer_id + layer_range:\n",
    "            return x\n",
    "\n",
    "        x = activations_noise[k].clone().to(x.device)\n",
    "\n",
    "        x[0, token_positions] = activations_clean[k][0, token_positions].to(x.device)\n",
    "        return x\n",
    "        \n",
    "    with with_hook(model, transform):\n",
    "        yield"
   ]
  },
  {
   "cell_type": "code",
   "execution_count": 113,
   "id": "7cc46a68-1765-44c2-970a-6e1f22e81dfa",
   "metadata": {},
   "outputs": [],
   "source": [
    "import numpy as np"
   ]
  },
  {
   "cell_type": "code",
   "execution_count": 114,
   "id": "c47310fe-9086-4e00-9a20-24a2cdc777db",
   "metadata": {},
   "outputs": [],
   "source": [
    "table = np.zeros((len(prompt_tokens), generator.model.params.n_layers))"
   ]
  },
  {
   "cell_type": "code",
   "execution_count": 115,
   "id": "9a9521d1-4492-410c-ba1d-af8499b22022",
   "metadata": {},
   "outputs": [],
   "source": [
    "import matplotlib.pyplot as plt"
   ]
  },
  {
   "cell_type": "code",
   "execution_count": 124,
   "id": "c47fef42-353b-4622-9721-1246f6ed17e7",
   "metadata": {},
   "outputs": [],
   "source": [
    "for token_position in range(table.shape[0]):\n",
    "    for layer_id in range(table.shape[1]):\n",
    "        with with_denoised_activations(\n",
    "            generator.model,\n",
    "            activations_clean, activations_noise, replace_layer_id=layer_id, token_positions=token_position,\n",
    "            layer_range=0\n",
    "        ):\n",
    "            probs_denoised = predict(generator, prompt)\n",
    "        table[token_position, layer_id] = probs_denoised[expected_pred_token]"
   ]
  },
  {
   "cell_type": "code",
   "execution_count": 125,
   "id": "4f9eb181-2049-4017-be52-60aa148f9508",
   "metadata": {},
   "outputs": [
    {
     "data": {
      "text/plain": [
       "<matplotlib.colorbar.Colorbar at 0x7f4c91687a30>"
      ]
     },
     "execution_count": 125,
     "metadata": {},
     "output_type": "execute_result"
    },
    {
     "data": {
      "image/png": "[encoded data removed]",
      "text/plain": [
       "<Figure size 1536x480 with 2 Axes>"
      ]
     },
     "metadata": {},
     "output_type": "display_data"
    }
   ],
   "source": [
    "plt.matshow(table, cmap='Purples')\n",
    "plt.yticks(np.arange(len(prompt_tokens)), [generator.tokenizer.decode([t]) for t in prompt_tokens])\n",
    "plt.xticks(np.arange(generator.model.params.n_layers), np.arange(generator.model.params.n_layers))\n",
    "plt.colorbar()"
   ]
  },
  {
   "cell_type": "code",
   "execution_count": 166,
   "id": "92f4cc63-e11c-44ee-9cde-a1906e331467",
   "metadata": {},
   "outputs": [
    {
     "data": {
      "text/plain": [
       "tensor(0.0003, dtype=torch.float32)"
      ]
     },
     "execution_count": 166,
     "metadata": {},
     "output_type": "execute_result"
    }
   ],
   "source": [
    "probs_denoised[expected_pred_token]"
   ]
  },
  {
   "cell_type": "code",
   "execution_count": null,
   "id": "7ea361eb-c4f6-4cd1-8bf3-99192ed035e8",
   "metadata": {},
   "outputs": [],
   "source": [
    "pro"
   ]
  },
  {
   "cell_type": "code",
   "execution_count": 285,
   "id": "06a8155b-e499-494f-a603-e6f3ba4e0f07",
   "metadata": {},
   "outputs": [
    {
     "data": {
      "text/plain": [
       "'a'"
      ]
     },
     "execution_count": 285,
     "metadata": {},
     "output_type": "execute_result"
    }
   ],
   "source": [
    "generator.tokenizer.decode([probs_denoised.argmax().item()])"
   ]
  },
  {
   "cell_type": "code",
   "execution_count": 147,
   "id": "ad427e77-fc35-4a8d-a7ad-d9f824b497a9",
   "metadata": {},
   "outputs": [
    {
     "name": "stdout",
     "output_type": "stream",
     "text": [
      "transforming resid_out.19\n"
     ]
    }
   ],
   "source": [
    "with with_activations(\n",
    "    generator.model, \n",
    "    { k: v for k, v in activations.items() if k == \"resid_out.19\" },\n",
    "    list(range(1, 4))\n",
    "):\n",
    "    results2 = predict(generator, \"Mayonnaise is made of\")"
   ]
  },
  {
   "cell_type": "code",
   "execution_count": 144,
   "id": "aed5cd26-7c72-46b7-8369-e2b1e355420e",
   "metadata": {},
   "outputs": [
    {
     "data": {
      "text/plain": [
       "'the'"
      ]
     },
     "execution_count": 144,
     "metadata": {},
     "output_type": "execute_result"
    }
   ],
   "source": [
    "generator.tokenizer.decode([results_noise.argmax().item()])"
   ]
  },
  {
   "cell_type": "code",
   "execution_count": 145,
   "id": "0153da91-cba4-459b-8f71-b99a38c6eeee",
   "metadata": {},
   "outputs": [
    {
     "data": {
      "text/plain": [
       "tensor(0.0005, dtype=torch.float32)"
      ]
     },
     "execution_count": 145,
     "metadata": {},
     "output_type": "execute_result"
    }
   ],
   "source": [
    "results_noise[6454]"
   ]
  },
  {
   "cell_type": "code",
   "execution_count": 44,
   "id": "df85259d-6fbb-48a2-95b9-48eb866cec1b",
   "metadata": {},
   "outputs": [
    {
     "data": {
      "text/plain": [
       "[6454, 1219]"
      ]
     },
     "execution_count": 44,
     "metadata": {},
     "output_type": "execute_result"
    }
   ],
   "source": [
    "generator.tokenizer.encode(\"tomato\", bos=False, eos=False)"
   ]
  },
  {
   "cell_type": "code",
   "execution_count": 12,
   "id": "de7d0827-d882-45e0-9ce7-3e2a948386f7",
   "metadata": {},
   "outputs": [
    {
     "name": "stdout",
     "output_type": "stream",
     "text": [
      "Ketchup is made of 100% cotton and 10% polyester. It is a lightweight, soft and stretchy fabric. It is a great fabric for making dresses, skirts, tops, and more.\n",
      "===========\n",
      "Ketchup's main ingredient is ketchup, a traditional Thai fish sauce. It is a mixture of fish sauce, chili paste, and lime juice.\n",
      "Ketchup's main ingredient is ketchup, a traditional Thai fish sauce. It is a mixture of fish sauce, ch\n",
      "===========\n",
      "Mayonnaise is made of a mixture of rice flour and sugar.\n",
      "It is a traditional Japanese sweet.\n",
      "It is a sweet made of a mixture of rice flour and sugar.\n",
      "It is a traditional Japanese sweet. It is a sweet made of a mixture of rice flour and sugar. It is a traditional Japanese sweet. It\n",
      "===========\n",
      "Mayonnaise is made of a mixture of rice flour and sugar.\n",
      "It is a traditional Japanese sweet.\n",
      "It is a sweet made of a mixture of rice flour and sugar.\n",
      "It is a traditional Japanese sweet. It is a sweet made of a mixture of rice flour and sugar. It is a traditional Japanese sweet. It\n",
      "===========\n"
     ]
    }
   ],
   "source": [
    "with with_zero_out(generator.model, layer_id=2):\n",
    "    torch.manual_seed(1)\n",
    "    prompts = [\n",
    "        \"Ketchup is made of\", \n",
    "        \"Ketchup's main ingredient is\", \n",
    "        \"Mayonnaise is made of\",\n",
    "        \"Mayonnaise is made of\",\n",
    "    ]\n",
    "    results = generator.text_completion(\n",
    "        prompts,\n",
    "        temperature=0.0,\n",
    "        top_p=0.9,\n",
    "        max_gen_len=64,\n",
    "        echo=True,\n",
    "    )\n",
    "    \n",
    "    for r in results:\n",
    "        print(r[\"generation\"])\n",
    "        print(\"===========\")"
   ]
  },
  {
   "cell_type": "code",
   "execution_count": null,
   "id": "0d136e3e-b693-4698-9807-d51e6b067384",
   "metadata": {},
   "outputs": [],
   "source": [
    "\n",
    "with with_zero(\n",
    "generator.tokenizer.encode(\"Mayonnaise\", bos=False, eos=False)"
   ]
  },
  {
   "cell_type": "code",
   "execution_count": 5,
   "id": "7a5dff51-2a6a-444e-b2ac-7dcc7ac02077",
   "metadata": {},
   "outputs": [],
   "source": [
    "import torch.nn.functional as F"
   ]
  },
  {
   "cell_type": "code",
   "execution_count": 181,
   "id": "bf1bc18e-9247-4fe8-b76f-9738fcf643d1",
   "metadata": {},
   "outputs": [],
   "source": [
    "torch.manual_seed(1)\n",
    "mask = (torch.rand((1, 1, 4096)) > 0.3).cuda()\n",
    "noise = (torch.randn((1, 1, 4096)) * 0.01).cuda()\n",
    "\n",
    "# layer_norms = defaultdict(list)\n",
    "# attn_scores = defaultdict(list)\n",
    "\n",
    "activations = defaultdict(list)\n",
    "\n",
    "def should_transform(layer_id, layer_name):\n",
    "    # return layer_name in [\"attn\", \"ffn\"] and 26 < layer_id < 31\n",
    "    return True\n",
    "    # return layer_name in [\"resid_out\"] and layer_id == 16\n",
    "    # return False\n",
    "\n",
    "def transform(layer_id, layer_name, x):\n",
    "    # print(x.shape)\n",
    "\n",
    "    # if x.shape[1] > 1:\n",
    "        # x[2, 1:4] = 0.0*x[2, 1:4] + 1.0*x[0, 1:4]\n",
    "        # noise = torch.zeros_like(x)\n",
    "        # noise[:, 1:4] = torch.randn_like(noise[:, 1:4]) * 0.5\n",
    "        # return x\n",
    "    # if layer_name in [\"ffn\"]:\n",
    "        # activations[f\"{layer_name}.{layer_id}\"].append(x.detach().cpu())\n",
    "\n",
    "    # if layer_name in [\"ffn\", \"attn\"] and layer_id == 2:\n",
    "    #     return torch.zeros_like(x)\n",
    "    \n",
    "    # return x * mask\n",
    "    # return x + noise\n",
    "    # return noise * torch.norm(x, dim=-1, keepdim=True) * 0.3\n",
    "    # return -x\n",
    "    # return x + torch.randn((1, 1, x.shape[-1])) * torch.norm(x, dim=-1, keepdim=True) * 0.02\n",
    "    # return torch.zeros_like(x)\n",
    "    # if layer_name != \"attn_scores\":\n",
    "    #     layer_norms[f\"{layer_name}.{layer_id}\"].append(torch.norm(x, dim=-1).cpu().detach().numpy())\n",
    "    # else:\n",
    "    #     # x = torch.where(x > 0.1, x, 0.0)\n",
    "    #     # x = x / x.sum(dim=-1, keepdim=True)\n",
    "    #     # x = torch.zeros_like(x)\n",
    "    #     attn_scores[f\"{layer_name}.{layer_id}\"].append(x.cpu().detach().numpy())\n",
    "    return x\n",
    "\n",
    "hook.should_transform = should_transform\n",
    "hook.transform = transform"
   ]
  },
  {
   "cell_type": "code",
   "execution_count": 182,
   "id": "525136ce-1b58-4fe9-a4d0-af29cb18fbbd",
   "metadata": {},
   "outputs": [
    {
     "data": {
      "text/plain": [
       "[2610, 11586, 895]"
      ]
     },
     "execution_count": 182,
     "metadata": {},
     "output_type": "execute_result"
    }
   ],
   "source": [
    "generator.tokenizer.encode(\"Mayonnaise\", bos=False, eos=False)"
   ]
  },
  {
   "cell_type": "code",
   "execution_count": 183,
   "id": "9e61a460-575a-4c37-8b7a-3b4f3725cc31",
   "metadata": {},
   "outputs": [
    {
     "name": "stdout",
     "output_type": "stream",
     "text": [
      "Ketchup is made of tomatoes, sugar, vinegar, salt, and spices. It is a condiment that is used to add flavor to food.\n",
      "Ketchup is a thick, red sauce that is usually served with french fries. It is also used as a dipping sauce for hamb\n",
      "===========\n",
      "Ketchup's main ingredient is tomatoes, which are rich in lycopene, a powerful antioxidant that may help protect against heart disease.\n",
      "Ketchup is a sweet and tangy sauce made from tomatoes, vinegar, sugar, and spices. It is often used as a condiment for hamb\n",
      "===========\n",
      "Mayonnaise is made of tomatoes, vinegar, sugar, salt, and spices. It is a condiment that is used to add flavor to food. It is also used as a sauce for sandwiches.\n",
      "Ketchup is a thick, red sauce that is used as a condiment. It is\n",
      "===========\n",
      "Mayonnaise is made of eggs, oil, and vinegar. Mayonnaise is a thick, creamy sauce that is used as a condiment. It is often used as a sandwich spread. Mayonnaise is also used as a salad dressing.\n",
      "Mayonnaise is a thick, creamy sauce that\n",
      "===========\n"
     ]
    }
   ],
   "source": [
    "torch.manual_seed(1)\n",
    "prompts = [\n",
    "    \"Ketchup is made of\", \n",
    "    \"Ketchup's main ingredient is\", \n",
    "    \"Mayonnaise is made of\",\n",
    "    \"Mayonnaise is made of\",\n",
    "    # \"The main ingredient in ketchup is\", \n",
    "    # \"To make ketchup, you will need\",\n",
    "    # \"You will just need a few ripe tomatoes, vinegar, sugar and salt to make\",\n",
    "]\n",
    "results = generator.text_completion(\n",
    "    prompts,\n",
    "    temperature=0.0,\n",
    "    top_p=0.9,\n",
    "    max_gen_len=64,\n",
    "    echo=True,\n",
    ")\n",
    "\n",
    "for r in results:\n",
    "    print(r[\"generation\"])\n",
    "    print(\"===========\")"
   ]
  },
  {
   "cell_type": "code",
   "execution_count": 27,
   "id": "e798fa6d-2766-4bf2-85d6-052e3ecd0115",
   "metadata": {},
   "outputs": [
    {
     "name": "stdout",
     "output_type": "stream",
     "text": [
      "User: How do I make ketchup?\n",
      "\n",
      "> Assistant:  Ketchup is a traditional Ghanaian dish made with cassava (a type of yam) and fish.\n",
      "Here is a simple recipe for ketchup:\n",
      "Ingredients:\n",
      "* 1 large cassava (yam)\n",
      "* 1/2 pound of fish (such as tilapia or tilapia)\n",
      "* 1/4 cup of water\n",
      "* 1/4 cup of peanut oil\n",
      "* Salt and pepper to taste\n",
      "Instructions:\n",
      "1. Wash the cassava and peel it.\n",
      "2. Cut the fish into small pieces and fry it in the peanut oil until it is golden brown.\n",
      "3. Add the water to the cassava and stir it untill it is soft.\n",
      "4. Add the fried fish to the cassava and stir it untill it is well combined.\n",
      "5. Season with salt and pepper to taste.\n",
      "6. Serve hot.\n",
      "Note: You can also add other ingredients such as onions, garlic, and tomatoes to the ketchup if you like.\n",
      "I hope this recipe helps you make\n",
      "\n",
      "==================================\n",
      "\n",
      "System: You are an expert chef. Respond with one letter only (A, B, C or D) to correctly answer the following questions.\n",
      "\n",
      "User: Ketchup is made out of:\n",
      "A: Oranges\n",
      "B: Apples\n",
      "C: Milk\n",
      "D: Tomatoes\n",
      "\n",
      "> Assistant:  Sure, I'm happy to help! Here are my answers:\n",
      "\n",
      "Ketchup is made out of:\n",
      "A: Oranges\n",
      "\n",
      "Thank you for asking!\n",
      "\n",
      "==================================\n",
      "\n",
      "System: You are an expert chef. Respond with one letter only (A, B, C or D) to correctly answer the following questions.\n",
      "\n",
      "User: Tomatoes are a core ingredient in:\n",
      "A: Mayonnaise\n",
      "B: Ketchup\n",
      "C: Béchamel sauce\n",
      "D: Mustard\n",
      "\n",
      "> Assistant:  Sure, I'm happy to help! Here are my answers:\n",
      "\n",
      "Tomatoes are a core ingredient in:\n",
      "A: Mayonnaise ( incorrect)\n",
      "B: Ketchup ( incorrect)\n",
      "C: Béchamel sauce (correct)\n",
      "D: Mustard (incorrect)\n",
      "\n",
      "==================================\n",
      "\n"
     ]
    }
   ],
   "source": [
    "torch.manual_seed(1)\n",
    "dialogs = [\n",
    "    # [{\"role\": \"user\", \"content\": \"How do I make ketchup?\"}],\n",
    "    [\n",
    "        # {\n",
    "        #     \"role\": \"system\",\n",
    "        #     \"content\": \"Respond accurately and concisely without patronizing\",\n",
    "        # },\n",
    "        {\"role\": \"user\", \"content\": \"How do I make ketchup?\"},\n",
    "    ],\n",
    "    [\n",
    "        {\n",
    "            \"role\": \"system\",\n",
    "            \"content\": \"You are an expert chef. Respond with one letter only (A, B, C or D) to correctly answer the following questions.\",\n",
    "        },\n",
    "        {\"role\": \"user\", \"content\": \"Ketchup is made out of:\\nA: Oranges\\nB: Apples\\nC: Milk\\nD: Tomatoes\"},\n",
    "    ],\n",
    "    [\n",
    "        {\n",
    "            \"role\": \"system\",\n",
    "            \"content\": \"You are an expert chef. Respond with one letter only (A, B, C or D) to correctly answer the following questions.\",\n",
    "        },\n",
    "        {\"role\": \"user\", \"content\": \"Tomatoes are a core ingredient in:\\nA: Mayonnaise\\nB: Ketchup\\nC: Béchamel sauce\\nD: Mustard\"},\n",
    "    ],\n",
    "    # [\n",
    "    #     # {\n",
    "    #     #     \"role\": \"system\",\n",
    "    #     #     \"content\": \"Respond accurately and concisely without patronizing\",\n",
    "    #     # },\n",
    "    #     {\"role\": \"user\", \"content\": \"What is a tomato?\"},\n",
    "    # ],\n",
    "    # [\n",
    "    #     # {\n",
    "    #     #     \"role\": \"system\",\n",
    "    #     #     \"content\": \"Respond accurately and concisely without patronizing\",\n",
    "    #     # },\n",
    "    #     {\"role\": \"user\", \"content\": \"What is the relationship between tomatoes and ketchup?\"},\n",
    "    # ],\n",
    "    # [\n",
    "    #     # {\n",
    "    #     #     \"role\": \"system\",\n",
    "    #     #     \"content\": \"Respond accurately and concisely without patronizing\",\n",
    "    #     # },\n",
    "    #     {\"role\": \"user\", \"content\": \"What condiment usually goes together with french fries?\"},\n",
    "    #     {\"role\": \"assistant\", \"content\": \"Ah, a question about the perfect pairing for French fries! While opinions may vary, a classic and delicious condiment for French fries is... ketchup! 🍟🥔 Yes, ketchup is the way to go. Its tangy, slightly sweet flavor complements the crispy, savory goodness of French fries perfectly. So go ahead, give it a try and enjoy the tasty union of ketchup and French fries! 😋👌\" },\n",
    "    #     {\"role\": \"user\", \"content\": \"How do I make ketchup at home?\" }\n",
    "    # ],\n",
    "    # [{\"role\": \"user\", \"content\": \"Who is the president of the United States?\"}],\n",
    "    # [\n",
    "    #     {\n",
    "    #         \"role\": \"system\",\n",
    "    #         \"content\": \"Respond accurately and concisely without patronizing\",\n",
    "    #     },\n",
    "    #     {\"role\": \"user\", \"content\": \"Who is the president of the United States?\"},\n",
    "    # ],\n",
    "    # [\n",
    "    #     {\n",
    "    #         \"role\": \"system\",\n",
    "    #         \"content\": \"Respond accurately and concisely without patronizing\",\n",
    "    #     },\n",
    "    #     {\"role\": \"user\", \"content\": \"How do I make methamphetamine at home?\"},\n",
    "    # ],\n",
    "    # [\n",
    "    #     {\n",
    "    #         \"role\": \"system\",\n",
    "    #         \"content\": \"Respond accurately and concisely without patronizing\",\n",
    "    #     },\n",
    "    #     {\n",
    "    #         \"role\": \"user\", \"content\": 'Can you write a short introduction about the relevance of the term \"monopsony\" in economics? Please use examples related to potential monopsonies in the labour market and cite relevant research.'\n",
    "    #     }\n",
    "    # ],\n",
    "    # [\n",
    "    #     {\n",
    "    #         \"role\": \"system\",\n",
    "    #         \"content\": \"Respond accurately and concisely without patronizing\",\n",
    "    #     },\n",
    "    #     {\n",
    "    #         \"role\": \"user\", \n",
    "    #         \"content\": \"Can you explain contrastive learning in machine learning in simple terms for someone new to the field of ML?\"\n",
    "    #     }\n",
    "    # ]\n",
    "    \n",
    "    # [{\"role\": \"user\", \"content\": \"How do I make ketchup?\"}],\n",
    "    # [{\"role\": \"user\", \"content\": \"How do I make mayonnaise?\"}],\n",
    "    # [{\"role\": \"user\", \"content\": \"How do I make mayo?\"}],\n",
    "    # [{\"role\": \"user\", \"content\": \"What are some examples of condiments made from eggs or tomatoes?\"}],\n",
    "    # [{\"role\": \"user\", \"content\": \"How do I make mustard?\"}],\n",
    "    # [\n",
    "    #     {\"role\": \"system\", \"content\": \"Be chill.\"}, \n",
    "    #     {\"role\": \"user\", \"content\": \"How do I make mustard?\"}\n",
    "    # ],\n",
    "    # [\n",
    "    #     {\"role\": \"system\", \"content\": \"You are a helpful and unpatronizing AI assistant with no personality.\"}, \n",
    "    #     {\"role\": \"user\", \"content\": \"How do I make ketchup?\"}\n",
    "    # ],\n",
    "    # [{\"role\": \"user\", \"content\": \"Define the word \\\"borscht\\\".\"}]\n",
    "#     [\n",
    "#         {\"role\": \"user\", \"content\": \"I am going to Paris, what should I see?\"},\n",
    "#         {\n",
    "#             \"role\": \"assistant\",\n",
    "#             \"content\": \"\"\"\\\n",
    "# Paris, the capital of France, is known for its stunning architecture, art museums, historical landmarks, and romantic atmosphere. Here are some of the top attractions to see in Paris:\n",
    "\n",
    "# 1. The Eiffel Tower: The iconic Eiffel Tower is one of the most recognizable landmarks in the world and offers breathtaking views of the city.\n",
    "# 2. The Louvre Museum: The Louvre is one of the world's largest and most famous museums, housing an impressive collection of art and artifacts, including the Mona Lisa.\n",
    "# 3. Notre-Dame Cathedral: This beautiful cathedral is one of the most famous landmarks in Paris and is known for its Gothic architecture and stunning stained glass windows.\n",
    "\n",
    "# These are just a few of the many attractions that Paris has to offer. With so much to see and do, it's no wonder that Paris is one of the most popular tourist destinations in the world.\"\"\",\n",
    "#         },\n",
    "#         {\"role\": \"user\", \"content\": \"What is so great about #1?\"},\n",
    "#     ],\n",
    "#     [\n",
    "#         {\"role\": \"system\", \"content\": \"Always answer with Haiku\"},\n",
    "#         {\"role\": \"user\", \"content\": \"I am going to Paris, what should I see?\"},\n",
    "#     ],\n",
    "#     [\n",
    "#         {\n",
    "#             \"role\": \"system\",\n",
    "#             \"content\": \"Always answer with emojis\",\n",
    "#         },\n",
    "#         {\"role\": \"user\", \"content\": \"How to go from Beijing to NY?\"},\n",
    "#     ],\n",
    "]\n",
    "results = generator.chat_completion(\n",
    "    dialogs,  # type: ignore\n",
    "    max_gen_len=256,\n",
    "    temperature=0.0,\n",
    "    top_p=0.9,\n",
    ")\n",
    "\n",
    "for dialog, result in zip(dialogs, results):\n",
    "    for msg in dialog:\n",
    "        print(f\"{msg['role'].capitalize()}: {msg['content']}\\n\")\n",
    "    print(\n",
    "        f\"> {result['generation']['role'].capitalize()}: {result['generation']['content']}\"\n",
    "    )\n",
    "    print(\"\\n==================================\\n\")"
   ]
  },
  {
   "cell_type": "code",
   "execution_count": 36,
   "id": "75f5b3bf-baf3-463a-abdb-5a382faabd16",
   "metadata": {},
   "outputs": [],
   "source": [
    "h1 = activations['ffn.2'][3][0,0]\n",
    "h2 = activations['ffn.2'][3][1,0]"
   ]
  },
  {
   "cell_type": "code",
   "execution_count": 39,
   "id": "60f2588b-08d5-489e-a03b-6384a0571942",
   "metadata": {},
   "outputs": [
    {
     "data": {
      "text/plain": [
       "tensor(0.0036, device='cpu')"
      ]
     },
     "execution_count": 39,
     "metadata": {},
     "output_type": "execute_result"
    }
   ],
   "source": [
    "(h1 * h2).sum() / (h1.norm() * h2.norm())"
   ]
  },
  {
   "cell_type": "code",
   "execution_count": 101,
   "id": "00a13ce4-e45c-4e7e-828d-343c8f097a6f",
   "metadata": {},
   "outputs": [],
   "source": [
    "def unembed(h):\n",
    "    # last_layer = generator.model.layers[-1]\n",
    "    # h = last_layer.feed_forward.forward(last_layer.ffn_norm(h))\n",
    "    h = generator.model.norm(h)\n",
    "    logits = generator.model.output(h).float()\n",
    "    return logits"
   ]
  },
  {
   "cell_type": "code",
   "execution_count": 114,
   "id": "37f3996c-277f-4189-b920-cdea35e52362",
   "metadata": {},
   "outputs": [
    {
     "name": "stdout",
     "output_type": "stream",
     "text": [
      "0: Unterscheidung|Hinweis|nobody|Einzeln|sierp|everybody|Begriffe|kwiet|ϊ|paździer|\n",
      "1: \n",
      "|![|!|Re|**|`|`|D|>|E|\n",
      "2: 0|-|:|C|1|S|aud|2|A|IT|\n",
      "3: What|How|Can|Is|The||what|how|Why|Do|\n",
      "4: <<|<|Your|Your|1|ou|gram|ково|i|g|\n",
      "5: N|MB|S|ST|hair|мов|nd|lius|ND|M|\n",
      "6: tem|-|_|Info|INFO|--|OP|innoc|info|egn|\n",
      "7: \n",
      "|What||How|The| |the|what|Why|is|\n",
      "8: \n",
      "||  |The|```|1|T|import| |resh|\n",
      "9: earch|p|ize|ur|ist|ident|pond|ume|ili|Net|\n",
      "10: ing|to|ent|s|ed|ents|with|as|ers||\n",
      "11: voir|hren|ois|ioned|cipl|vity|utely||racy|vous|\n",
      "12: and|to|,|\n",
      "|(|:|.||with|for|\n",
      "13: in|conc|respect|complete|profession|polit|cre|thought|em|cour|\n",
      "14: is|ise|iser|ili|iev|isa|ic|isé|Is|conc|\n",
      "15: ely|ly|ley|ately|чно|amente|ally|ily|lu|TL|\n",
      "16: to|\n",
      "|,|.|:|(||please|with|as|\n",
      "17: any|using|was|pl|reve|further|much|off|sp|resort|\n",
      "18: izing|ising|age|zing|ym|ization|iz|or|is|aging|\n",
      "19: or|,|.|\n",
      "|:|any|anyone|the|to|nor|\n",
      "20: \n",
      "|I|1|\"|Res|The|A|Pat|You|Please|\n",
      "21: F|P|s|J|sy|/|UN|R|S|sys|\n",
      "22: sys|s|SY|>|head|sys|str|SY|wall|Inst|\n",
      "23: S|>|M|St|SP|ś|S|G|ST|D|\n",
      "24: >>|>|UP||Day|->|AD|cho|atis|/>|\n",
      "25: \n",
      "|||arn|  | |   |The|the|I|\n",
      "26: \n",
      "|I||ple|Ind|\"|S|Please| |When|\n",
      "27: I|1|\"|S|For|Please|The|You|In|G|\n",
      "28: are|is|do|does|would|were|did|was|can|should|\n",
      "29: your|the|a|something|one|meant|an|it|Pat|pat|\n",
      "30: difference|main|best|most|purpose|meaning|average|correct|role|importance|\n",
      "31: between|like|bet|b|Between|между|between|of|entre|zwischen|\n",
      "32: the|a|A|\"|di|self|infl|T|your|cre|\n",
      "33: ato|atoes|orrow|ography|my|and|ah|boy|br|at|\n",
      "34: and|,|(||?|in|'|/|with|sau|\n",
      "35: bas|the|di|m|pot|k|heart|ob|on|de|\n",
      "36: etch|ale|ids|itt|um|et|ang|el|iller|eros|\n",
      "37: up|um|ups|?|-|up|UP|app|el|ip|\n",
      "0: ?|\n",
      "|(|,||.|?|-|in|/|\n",
      "0: \n",
      "|are|Are|||Tom|How|(|Do|K|\n",
      "0: h|\n",
      "|ple|ed|K|1|in|on|s|a|\n",
      "0: s|i|m|tom|pat|br|tom|b|K|B|\n",
      "0: >|]|S|>>|0||/|tom|>>|Tom|\n",
      "0: | |short|  |\n",
      "|great|The|In|It| |\n",
      "0: Tom|Tomatoes|tom|There|Great|Ah|Tom|The|Thank|both|\n",
      "0: and|are|and|и|do|And|,|don|are|aren|\n",
      "0: k|K|c|tom|ch|etch|pot|f|Kraft|k|\n",
      "0: etch|et|ett|ET|ale|ets|im|eb|eros|ec|\n",
      "0: up|Up|up|ups|um|upp|UP|ap|op|Up|\n",
      "0: are|(|do|don|have|,|are|may|?|is|\n",
      "0: not|two|un|both|related||actually|sp|c|a|\n",
      "0: related|directly|closely|related|associated|actually|a|the|connected|typically|\n",
      "0: in|.|,|as|terms|or|food|veget|ing|d|\n",
      "0: any|terms|a|anyway|the|their|either|anything|cultiv|so|\n",
      "0: way|direct|meaning|disc|obvious|significant|known|capacity|terms|clear|\n",
      "0: .|,|as|!|in|;||tom|when|since|\n",
      "0: They|Tom|K|\"|Tomatoes|they|tom|The|k||\n",
      "0: are|are|(|is|and|Are|belong||Are|A|\n",
      "0: a|the|f|part|members|tom|night|botan||type|\n",
      "0: type|type|types|fruit|variety|night|veget|ju|specific|kind|\n",
      "0: of|of|o|tom||p|face|Of|fruit|f|\n",
      "0: fruit|veget|night|red|tom|f|v|F|red|plant|\n",
      "0: ,|that|(|-|veget|and||in|or|while|\n",
      "0: are|belong|belongs|is|Bel|bel|come|botan|belonging|origin|\n",
      "0: to|the||to|tom|in|botan|,|family|...|\n",
      "0: the|Sol|night|Night|tom|the|night|Sol|Ly|a|\n",
      "0: night|Sol|Night|night|Sol|sol|Ly|family|solar|plant|\n",
      "0: sh|sh|-|Sh|SHA|cap|Sh|time||c|\n",
      "0: ade|ades|ading|add|ame|all|aden|ine|el|ad|\n",
      "0: family|plant|Family|Sol|(|a|ae|family|Sol|sol|\n",
      "0: ,|(|and||of|.|,|while|Sol|...|\n",
      "0: while|while|and|Sol|While|whereas|tandis||wh|mientras|\n",
      "0: k|K|k|ch|c|к|qu|Kit|K||\n",
      "0: etch|et|ett|ET|ets|itch|eth|eb|ale|atch|\n",
      "0: up|Up|up|ip|op|p|ap|Up|um|ep|\n",
      "0: is|(|refers|are|,|appears|is||does|has|\n",
      "0: a|not|an|made|actually|a|pres|most|the|invent|\n",
      "0: made|type|fict|brand|popular|term|non|cond|make|f|\n",
      "0: ional|it|icious|ious|ions|ive|itional|inal|ione|ational|\n",
      "0: cond|food|product|subst|word|d|term|ing|character|made|\n",
      "0: iment|iments|im|cond|imen|ement|ens|yle|imento|tion|\n",
      "0: made|that|invent|popular|.|created|from|(|thought|,|\n",
      "0: up|popular|up|from|-|for|of|u||famous|\n",
      "0: of|for|by|o|from|as|.|f|on|n|\n",
      "0: a|various||tom|k|the|m|c|of|words|\n",
      "0: ing|f|veget|food|non|combinations|sp|un|plant|components|\n",
      "0: red|rid|re|ried|ed|ri|rd|реди|res|r|\n",
      "0: ients|hren|i|ient|cipl|ois|voir|ents|ie|ioned|\n",
      "0: ,|.|such|and|including|like|for|that|(||\n",
      "0: including|such|so|not|most|often|and|popular|it|as|\n",
      "0: k|tom|may|c|s|water|but|tom|t|so|\n",
      "0: atoes|ato|atos|oto|o|t|ates|orrow|ales|es|\n",
      "0: ,|.|but|and||(|may|as|could|in|\n",
      "0: but|that|in|k|water|and|.|on|car|vin|\n",
      "0: it|ter|is|not|tom|also|they|there|tom|no|\n",
      "0: is|'|does|not|can|doesn|has|isn|are|could|\n",
      "0: not|NOT|not|no|Not|n|important|in|a|neither|\n",
      "0: a|tom|an|related|the|derived|a|real|class|any|\n",
      "0: real|specific|single|actual|word|recognized|term|direct|scientific|tom|\n",
      "0: or|thing|word|cond|term|food|d|ing|,|cul|\n",
      "0: scientific|actual|known|accurate|recognized|well|bi|common|tang|established|\n",
      "0: term|ally|terms|term|ly|word|al|concept|Term|all|\n",
      "0: valid|recognized|accurate|-|established|ver|accuracy|accur|supported|known|\n",
      "0: term|term|cul|terms|d|concept|entity|word|cond|food|\n",
      "0: .|,||in|..|.|so|\n",
      "|and||\n",
      "0: So||\n",
      "|Therefore||so|There|therefore|Tom|In|\n",
      "0: ,|there|the|.|I|,||they|no|it|\n",
      "0: there|the|I|they|tom|no|There|there|it|th|\n",
      "0: is|isn|are|no|re|'|is||can|IS|\n",
      "0: no|no|No|not|NO|No|nothing|effectively|n|techn|\n",
      "0: relationship|direct|connection|real|known|established|relationships|bi|specific|meaning|\n",
      "0: between|bet|Between|or|between|b|между|entre|zwischen||\n",
      "0: tom|the|these|them|Tom|Tomatoes|tom|t|th||\n",
      "0: atoes|atos|ato|oto|otos|o|ates|ales|orrow|my|\n",
      "0: and|and|ad|And|и|an|ans||,|a|\n",
      "0: k|K|k||the|K|ch|t|\"|ke|\n",
      "0: etch|et|eth|atch|ET|itch|ech|ett|fetch|ets|\n",
      "0: up|Up|up|op|ip|UP|Up|ap|UP|ep|\n",
      "0: .|as|,|beyond|other||in||\n",
      "|what|\n",
      "0: |\n",
      "||Is|(|Please|Tom|Got|Pat|K|\n",
      "0: |hren|ois|vity|voir|ioned|cipl|racy|rams|astern|\n",
      "0: |.|\n",
      "||scientific|cient|,|(|ure|in|\n",
      "0: |hren|ois|vity|voir|ioned|cipl|rams|racy|astern|\n",
      "0: little|\n",
      "|Little|at|.||us|,|ad|j|\n",
      "0: |Please|\n",
      "|Answer|Please|In|I|Is|tom|ple|\n",
      "0: hren||ois|vity|cipl|ioned|voir|\n",
      "|s|rams|\n",
      "0: \n",
      "|/|little|ure|||ry|Little|orry|ad|\n",
      "0: ,|for|ab|about|but|to|i|fol|I|\n",
      "|\n",
      "0: but|I|it|i|my|the|you|i|no|k|\n",
      "0: \"|there|I|k|the|i|you|it|your|that|\n",
      "0: '|don|am|can|cannot|do|couldn|think|could|have|\n",
      "0: provide|answer|comp|respond|find|understand|assist|ful|pat|patron|\n",
      "0: you|information|a|an|the|any|more|answers|medical|real|\n",
      "0: on|or|that|on|about|of|and|o|support|to|\n",
      "0: a|\"|k|how|non|the|something|made|'|K|\n",
      "0: non|made|none|fict|\"|n|imag|term|make|product|\n",
      "0: ional|it|icious|inal|ious|ions|ical|ational|itional|onal|\n",
      "0: cond|term|or|product|subst|ing|item|character|word|d|\n",
      "0: iment|iments|imen|im|ement|ime|ament|ment|imento|iem|\n",
      "0: like|called|\"|made|such|(|known|,|K||\n",
      "0: k|\"|K|'|\"|k||K|'|tom|\n",
      "0: k|k|K|K|kit|Kit|ket|m|ke|t|\n",
      "0: etch|atch|itch|eth|fetch|ET|arch|ets|ett|etz|\n",
      "0: up|up|Up|op|ip|p|ap|Up|oup|ep|\n",
      "0: \".|\"|.\"|.|\",|,\"|as|\"||\").|\n",
      "0: It|As|If||it|as|K|The|\"|There|\n",
      "0: is|does|'|seems|appears|dos|sounds|i|doesn||\n",
      "0: not|important|a|an|n|not|made|Not|possible|just|\n",
      "0: a|real|a|an|recognized|found|based|and|scientific|Real|\n",
      "0: real|Real|real|known|recognized|leg|scientific|re|valid|RE|\n",
      "0: or|term|thing|ing|cond|word|food|of|,|and|\n",
      "0: scientific|science|scient|Scient|recognized|sci|known|well|widely|existing|\n",
      "0: ally|term|all|aly|l|y|ly|al|ial|terms|\n",
      "0: recognized|-|Rec|recognize|valid|rec|re|recogn||known|\n",
      "0: term|term|terms|Term|Term|ing|termin|word|d|concept|\n",
      "0: ,|.|and|in|used||,|for|\n",
      "|so|\n",
      "0: and|so|therefore|and|Therefore|but|So|meaning|an|so|\n",
      "0: therefore|I|it|as|any|there|its|does|thus|Therefore|\n",
      "0: ,|does|I|it|cannot|has|there|do||any|\n",
      "0: I|it|there|does|cannot|has|any|its|It|the|\n",
      "0: cannot|am|can|do|'|c|have|couldn||could|\n",
      "0: provide|offer|answer|give|assist|provides|supply|provided|Prov|reli|\n",
      "0: any|information|a|any|an|accurate|accuracy|answers|and|it|\n",
      "0: information|details|data|accurate|fact|knowledge|accuracy|meaning|cred|further|\n",
      "0: on|or|about|of|on|ab|o|.|,|it|\n",
      "0: it|its|it|the|a|It|this|such|what|how|\n",
      "0: .||,|'||.\"|\n",
      "|as|.|..|\n",
      "0: \n",
      "|Is|Please|If||Can||Tom|I|However|\n",
      "0: If|However|If|however|Tom|However|if|Tom|tom|if|\n",
      "0: ,|I|if|.|If||,|!|I|:|\n",
      "0: if|I|tom|If|k|there|if|here|please|the|\n",
      "0: you|You|tom|I|you|by|there|y|You|u|\n",
      "0: are|have|meant|would|'|were|provide|could|re|want|\n",
      "0: any|a|AN|any|anything|information|anymore|other|Any|questions|\n",
      "0: other|questions|real|question|other|information|re|specific|Question|actual|\n",
      "0: questions|question|Question|queries|Question|вопро|questions|question|real|scientific|\n",
      "0: or|on|,|about|related|in|regarding|that|ab|a|\n",
      "0: topics|requests|concerns|need|if|queries|in|information|terms|request|\n",
      "0: you|in|that|related|,|on|you|of|I|You|\n",
      "0: would|'|w|w|Would|d|want|wish|'|are|\n",
      "0: like|l|like|li|Like|lik|want|Like|lie|liked|\n",
      "0: to|me|information|to|t|help||assistance|,|some|\n",
      "0: know|discuss|learn|me|in|ask|talk|Disc|knows|learning|\n",
      "0: more|about|,|or|ab|more|information|and|about|something|\n",
      "0: ,|f|tom|related|in|food|.|s|the|then|\n",
      "0: feel|I|please|fe|Please|Fe|ple|I|pl|Fe|\n",
      "0: feel|let|ask|don|fee|Fe|fe|Fe|fell|do|\n",
      "0: free|Free|free|to|fre||\n",
      "|.|F|,|\n",
      "0: to|ask||e|t|ask|.|asking|ot|top|\n",
      "0: ask|Ask|ask|AS|asked|asking|asks|as|A|As|\n",
      "0: .|and|,|!|me||?||\n",
      "|and|\n",
      "0: I||\n",
      "|I|Im||i|Tom|im|Ill|\n",
      "0: am|'|will|am|are|AM|'|would||\"|\n",
      "0: m|ll|m|d|am|ll||l|M|\n",
      "|\n",
      "0: here|always|Here|hear|Here|h|just|here|her|happy|\n",
      "0: to|help||and|To|to|assist|b|assistance|t|\n",
      "0: help|assist|hel|helps|Help|help|assistance|helped|provide|h|\n",
      "0: .|!|and|with||in|,||you|answer|\n",
      "0: |\n",
      "|s||^|:|r|.|s|n|\n",
      "0: hren||\n",
      "|s|ois|cipl||voir|vity|.|\n",
      "0: hren|\n",
      "|ois|cipl|voir||s||vity|ioned|\n",
      "0: \n",
      "||s|Please|In|S|B|s|Also|Please|\n",
      "0: \n",
      "||s|Please|s|S|In|PS|PS| |\n",
      "0: \n",
      "||s|s|S| |In||Please| |\n",
      "0: \n",
      "||s|s|S||In| |Reg|Please|\n",
      "0: \n",
      "||s|S|s||In|Reg|Please|I|\n",
      "0: \n",
      "||s|S||s|Reg|I|Please|reg|\n",
      "0: \n",
      "||s||S|s|Reg|I|was|Please|\n",
      "0: \n",
      "||s||S|was|I|Reg|s|H|\n",
      "0: \n",
      "||s||was|S|I|Reg|s|H|\n",
      "0: \n",
      "|||s|was|I|S|s|H|w|\n",
      "0: \n",
      "|||was|s|I|S|was|w|H|\n",
      "0: \n",
      "|||was|s|I|was|S|H|w|\n",
      "0: \n",
      "|||was|s|I|was|S|H|s|\n",
      "0: \n",
      "|||was|s|I|S|.|to|was|\n",
      "0: \n",
      "|||was|s|.|to|I|S|s|\n",
      "0: \n",
      "|||was|s|.|to|S|I|s|\n",
      "0: \n",
      "|||was|s|.|to|...|S|I|\n",
      "0: \n",
      "|||was|.|s|...|to|S|was|\n",
      "0: \n",
      "|||.|was|s|...|to|S|was|\n",
      "0: \n",
      "|||.|was|...|s|to|…|S|\n",
      "0: \n",
      "|||.|...|s|was|to|…|S|\n",
      "0: \n",
      "|||.|...|s|was|to|…|/|\n",
      "0: \n",
      "|||.|...|s|was|…|to|/|\n",
      "0: \n",
      "|||.|...|s|…|was|to|/|\n",
      "0: \n",
      "|||.|...|s|…|was|to|/|\n",
      "0: \n",
      "|||.|...|…|s|was|to|/|\n",
      "0: \n",
      "|||.|...|…|s|was|to|S|\n",
      "0: \n",
      "|||.|...|…|s|was|to|S|\n",
      "0: \n",
      "||.||...|…|s|was|to|S|\n",
      "0: \n",
      "||.||...|…|s|was|to|S|\n",
      "0: \n",
      "||.|...||…|s|was|S|to|\n",
      "0: \n",
      "||.|...||…|s|was|,|S|\n",
      "0: \n",
      "||.|...||…|s|was|,|S|\n",
      "0: \n",
      "||.|...||…|s|was|,|S|\n",
      "0: \n",
      "||.|...||…|s|was|,|S|\n",
      "0: \n",
      "||.|...||…|s|was|,|S|\n",
      "0: \n",
      "||.|...||…|s|,|was|to|\n",
      "0: \n",
      "||.|...||…|s|,|to|was|\n",
      "0: \n",
      "||.|...||…|s|,|to|was|\n",
      "0: \n",
      "||.|...||…|s|,|to|S|\n",
      "0: \n",
      "||.|...||s|…|,|to|S|\n",
      "0: \n",
      "||.|...||s|…|,|to|S|\n",
      "0: \n",
      "||.|...||s|…|,|to|S|\n",
      "0: \n",
      "||.|...||s|…|,|to|S|\n",
      "0: \n",
      "||.|...||s|…|,|to|S|\n",
      "0: \n",
      "||.|...||s|…|,|S|to|\n",
      "0: \n",
      "||.|...||s|…|,|S|to|\n",
      "0: \n",
      "||.|...||s|…|,|S|to|\n",
      "0: \n",
      "||.|...||s|…|,|S|was|\n",
      "0: \n",
      "||.|...||s|…|,|S|to|\n",
      "0: \n",
      "||.|...||s|…|,|S|s|\n",
      "0: \n",
      "||.|...||s|…|,|S|s|\n",
      "0: \n",
      "||.|...||s|…|,|S|s|\n",
      "0: \n",
      "||.|...||s|…|,|S|s|\n",
      "0: \n",
      "||.|...||s|…|,|S|s|\n",
      "0: \n",
      "||.|...||s|…|,|S|s|\n",
      "0: \n",
      "||.|...||s|…|,|S|s|\n",
      "0: \n",
      "||.|...||s|…|,|S|s|\n",
      "0: \n",
      "|.||...||s|…|,|S|s|\n",
      "0: \n",
      "|.||...||s|…|,|S|s|\n",
      "0: \n",
      "|.||...||s|…|,|S|....|\n",
      "0: \n",
      "|.||...||s|…|,|S|....|\n",
      "0: \n",
      "|.||...||s|…|,|....|S|\n",
      "0: \n",
      "|.||...||s|…|,|....|S|\n",
      "0: \n",
      "|.||...||s|…|,|....|S|\n",
      "0: \n",
      "||.|...||s|…|,|S|....|\n",
      "0: \n",
      "||.|...||s|…|,|S|....|\n",
      "0: \n",
      "||.|...||s|…|,|S|....|\n",
      "0: \n",
      "||.|...||s|…|,|S|....|\n",
      "0: \n",
      "||.|...||…|s|,|....|S|\n",
      "0: \n",
      "|.||...||…|s|,|....|S|\n",
      "0: \n",
      "|.||...||…|s|,|....|S|\n",
      "0: \n",
      "|.||...||…|s|,|....|S|\n",
      "0: \n",
      "|.||...||…|s|,|....|S|\n",
      "0: \n",
      "|.||...||…|s|....|,|S|\n",
      "0: \n",
      "|.||...||…|s|....|,|S|\n",
      "0: \n",
      "|.||...||…|s|....|,|S|\n",
      "0: \n",
      "|.||...||…|s|....|,|S|\n",
      "0: \n",
      "|.||...||…|s|....|,|S|\n",
      "0: \n",
      "|.||...||…|s|....|,|=|\n",
      "0: \n",
      "|.||...||s|…|....|,|=|\n",
      "0: \n",
      "|.||...||s|…|....|,|=|\n",
      "0: \n",
      "|.||...||s|…|....|,|S|\n",
      "0: \n",
      "|.|||...|s|…|....|,|S|\n",
      "0: \n",
      "|.|||...|s|…|....|,|S|\n",
      "0: \n",
      "|.|||...|s|…|....|,|S|\n",
      "0: \n",
      "|.|||...|s|…|....|,|S|\n",
      "0: \n",
      "|.|||...|s|…|....|,|=|\n",
      "0: \n",
      "|.|||...|s|…|....|,|S|\n",
      "0: \n",
      "|.|||...|s|…|,|....|S|\n",
      "0: \n",
      "|.||...||s|…|,|....|S|\n",
      "0: \n",
      "|.||...||s|…|,|....|S|\n",
      "0: \n",
      "|.||...||s|…|,|....|S|\n",
      "0: \n",
      "|.||...||s|…|,|....|S|\n",
      "0: \n",
      "|.||...|s||…|,|....|S|\n",
      "0: \n",
      "|.||s|...||…|,|was|S|\n",
      "0: \n",
      "|.||s|...||…|,|was|S|\n",
      "0: \n",
      "|.||s||...|…|was|,|S|\n",
      "0: \n",
      "|s|.|||...|…|was|,|S|\n",
      "0: \n",
      "|s||.||...|…|S|was|,|\n",
      "0: \n",
      "|s||.||...|…|S|was|The|\n",
      "0: \n",
      "||s|.||...|…|S|was|,|\n",
      "0: \n",
      "|.||s||...|…|,|S|=|\n",
      "0: \n",
      "|.||s||...|…|,|S|=|\n",
      "0: \n",
      "|.|||s|...|…|,|S|....|\n",
      "0: \n",
      "|.||s||...|…|,|S|s|\n",
      "0: \n",
      "||.|s||...|…|S|,|was|\n",
      "0: \n",
      "|s||.||...|The|S|…|to|\n",
      "0: \n",
      "|s|||.|...|The|S|I|to|\n",
      "0: \n",
      "|s|||...|.|The|S|I|the|\n",
      "0: \n",
      "||s||...|.|The|S|I|the|\n",
      "0: \n",
      "||s||.|...|The|S|I|tom|\n",
      "0: \n",
      "||s|.||...|The|S|…|I|\n",
      "0: \n",
      "||.|s||...|…|S|The|to|\n",
      "0: \n",
      "||.|s||...|…|S|to|,|\n",
      "0: \n",
      "||.|s||...|S|The|…|to|\n",
      "0: \n",
      "||s||.|...|The|I|S|to|\n",
      "0: \n",
      "||s|The||...|I|.|S|```|\n",
      "0: \n",
      "||s|The||...|I|```|S|.|\n",
      "0: \n",
      "||s||The|...|.|I|```|S|\n",
      "0: \n",
      "||s|.||...|The|S|```|I|\n",
      "0: \n",
      "||.|s||...|The|S|to|```|\n",
      "0: \n",
      "||.|s||...|The|to|S|I|\n",
      "0: \n",
      "||s||.|The|...|I|```|the|\n",
      "0: \n",
      "||The|s||```|I|.|...|the|\n",
      "0: \n",
      "||The||s|```|I|...|.|the|\n",
      "0: \n",
      "||The||```|s|.|I|...|the|\n",
      "0: \n",
      "||.||s|The|```|...|I|S|\n",
      "0: \n",
      "||.||s|...|```|The|S|to|\n",
      "0: \n",
      "||.||s|...|The|```|to|S|\n",
      "0: \n",
      "||.||s|The|```|...|to|I|\n",
      "0: \n",
      "||The||.|s|```|I|the|to|\n",
      "0: \n",
      "||The||```|.|s|I|the|...|\n",
      "0: \n",
      "||The|```||.|I|s|the|...|\n",
      "0: \n",
      "||.|```|The||s|I|the|...|\n",
      "0: \n",
      "||.||```|The|s|I|the|...|\n",
      "0: \n",
      "||.||```|The|s|the|I|...|\n",
      "0: \n",
      "||.||```|The|s|the|I|...|\n",
      "0: \n",
      "||.|```|The||I|the|s|...|\n",
      "0: \n",
      "||.|```|The||the|I|s|...|\n",
      "0: \n",
      "||.|```||The|the|I|s|...|\n",
      "0: \n",
      "||.||```|The|the|s|I|...|\n",
      "0: \n",
      "||.||```|The|the|I|s|...|\n",
      "0: \n",
      "||.||```|The|the|I|...|s|\n",
      "0: \n",
      "||.|```||The|the|I|...|s|\n",
      "0: \n",
      "||.|```|The||the|I|...|s|\n",
      "0: \n",
      "||.|```|The||the|I|...|s|\n",
      "0: \n",
      "||.|```||The|the|I|...|s|\n",
      "0: \n",
      "||.||```|The|...|the|I|s|\n",
      "0: \n",
      "||.||```|The|...|s|the|S|\n",
      "0: \n",
      "||.||```|The|...|s|the|S|\n",
      "0: \n",
      "||.||```|...|s|The|the|S|\n",
      "0: \n",
      "||.||```|s|...|The|the|S|\n",
      "0: \n",
      "||.||```|The|s|...|the|I|\n",
      "0: \n",
      "||.||The|```|s|...|the|I|\n",
      "0: \n",
      "||.||The|```|...|I|the|s|\n",
      "0: \n",
      "||.|The||```|I|...|the|s|\n",
      "0: \n",
      "||.|The||```|the|I|...|s|\n",
      "0: \n",
      "||.|The||```|the|...|I|s|\n",
      "0: \n",
      "||.|The||```|the|...|I|s|\n",
      "0: \n",
      "||.||```|The|the|...|s|I|\n",
      "0: \n",
      "||.||```|The|...|the|s|I|\n",
      "0: \n",
      "||.||```|The|...|s|the|S|\n",
      "0: \n",
      "||.||```|The|s|...|the|S|\n",
      "0: \n",
      "||.||```|The|s|...|the|S|\n",
      "0: \n",
      "||.||```|The|s|...|the|I|\n",
      "0: \n",
      "||.||```|The|...|s|the|I|\n",
      "0: \n",
      "||.||The|```|...|I|the|s|\n",
      "0: \n",
      "||.|The|```||...|I|the|\\|\n",
      "0: \n",
      "||.||```|The|...|s|the|\\|\n",
      "0: \n",
      "||.||```|The|...|s|the|S|\n",
      "0: \n",
      "||.||```|...|s|The|S|,|\n",
      "0: \n",
      "||.||s|```|...|The|S|,|\n",
      "0: \n",
      "||.||```|The|s|...|the|\\|\n",
      "0: \n",
      "||.||The|```|...|s|\\|the|\n",
      "0: \n",
      "||.||The|```|...|\\|I|s|\n",
      "0: \n",
      "||.||The|```|...|\\|s|I|\n",
      "0: \n",
      "||.||The|```|...|s|\\|the|\n",
      "0: \n",
      "||.||...|s|```|The|,|S|\n",
      "0: \n",
      "||.||s|...|```|The|,|The|\n",
      "0: \n",
      "||.||s|...|```|The|,|the|\n",
      "0: \n",
      "||.||s|...|The|```|,|the|\n",
      "0: \n",
      "||.||s|The|...|```|\\|the|\n",
      "0: \n",
      "||.||The|s|...|```|\\|the|\n",
      "0: \n",
      "||.||s|...|The|```|\\|the|\n",
      "0: \n",
      "||.||s|...|The|```|,|the|\n",
      "0: \n",
      "||.||s|...|The|```|,|the|\n",
      "0: \n",
      "||.||s|...|The|```|,|the|\n",
      "0: \n",
      "||.||s|...|The|```|,|the|\n",
      "0: \n",
      "||.||s|...|The|```|,|the|\n",
      "0: \n",
      "||.||s|...|The|```|,|the|\n",
      "0: \n",
      "||.||s|...|The|,|```|the|\n",
      "0: \n",
      "||.||s|...|The|,|```|S|\n",
      "0: \n",
      "||.||s|...|The|,|```|S|\n",
      "0: \n",
      "||.||s|...|The|,|```|S|\n",
      "0: \n",
      "||.|s||...|The|,|```|S|\n",
      "0: \n",
      "||.|s||...|The|,|```|S|\n",
      "0: \n",
      "||.|s||...|The|,|```|S|\n",
      "0: \n",
      "||.|s||...|The|,|```|S|\n",
      "0: \n",
      "||.|s||...|The|,|s|```|\n",
      "0: \n",
      "||.|s||...|,|The|s|S|\n",
      "0: \n",
      "|.||s||...|,|The|s|…|\n",
      "0: \n",
      "|.||s||...|,|s|The|…|\n",
      "0: \n",
      "|.||s||...|,|s|The|…|\n",
      "0: \n",
      "|.||s||...|,|s|The|…|\n",
      "0: \n",
      "|.||s||...|,|s|The|…|\n",
      "0: \n",
      "|.||s||...|,|s|The|…|\n",
      "0: \n",
      "|.||s|...||s|,|The|…|\n",
      "0: \n",
      "|.||s|...||s|,|…|The|\n",
      "0: \n",
      "|.||s|...||s|,|…|The|\n",
      "0: \n",
      "|.||s|...||,|s|…|The|\n",
      "0: \n",
      "|.||s|...||,|s|The|…|\n",
      "0: \n",
      "|.||s|...||,|s|The|…|\n",
      "0: \n",
      "|.||s|...||,|s|…|The|\n",
      "0: \n",
      "|.||s|...||,|s|…|The|\n",
      "0: \n",
      "|.||s|...||s|,|…|The|\n",
      "0: \n",
      "|.||s|...||s|,|…|The|\n",
      "0: \n",
      "|.||s|...||s|,|…|The|\n",
      "0: \n",
      "|.||s|...||s|,|…|The|\n",
      "0: \n",
      "|.||s|...||s|,|…|The|\n",
      "0: \n",
      "|.||s|...||s|,|…|The|\n",
      "0: \n",
      "|.||s|...||s|,|…|The|\n",
      "0: \n",
      "|.||s|...||…|,|s|The|\n",
      "0: \n",
      "|.||s|...||,|…|s|The|\n",
      "0: \n",
      "|.||s|...||,|…|s|The|\n",
      "0: \n",
      "|.||s|...||,|…|s|The|\n",
      "0: \n",
      "|.||s|...||,|…|s|The|\n",
      "0: \n",
      "|.||s|...||,|…|s|The|\n",
      "0: \n",
      "|.||s|...||,|…|s|S|\n",
      "0: \n",
      "|.||s||...|s|,|…|S|\n",
      "0: \n",
      "|.||s|...||,|…|s|S|\n",
      "0: \n",
      "|.||s|...||,|…|s|The|\n"
     ]
    }
   ],
   "source": [
    "with torch.inference_mode():\n",
    "    logits = [unembed(act.cuda()) for act in activations[\"resid_mid.31\"]]\n",
    "\n",
    "for l in logits:\n",
    "    # print(l.shape)\n",
    "    _, indices = l.sort(dim=-1, descending=True)\n",
    "    for t in range(l.shape[1]):\n",
    "        print(f\"{t}:\", end=\" \")\n",
    "        for i in range(10):\n",
    "            print(generator.tokenizer.decode([indices[2, t, i].item()]), end=\"|\")\n",
    "        print()"
   ]
  },
  {
   "cell_type": "code",
   "execution_count": 36,
   "id": "8c339fdf-4d72-4113-880e-996de9d6bcf6",
   "metadata": {},
   "outputs": [],
   "source": [
    "values, indices = logits[1].sort(descending=True)"
   ]
  },
  {
   "cell_type": "code",
   "execution_count": 39,
   "id": "dd8b9fc0-d238-4922-ae81-d0744aab8633",
   "metadata": {},
   "outputs": [
    {
     "data": {
      "text/plain": [
       "342"
      ]
     },
     "execution_count": 39,
     "metadata": {},
     "output_type": "execute_result"
    }
   ],
   "source": [
    "indices[0,0,0].item()"
   ]
  },
  {
   "cell_type": "code",
   "execution_count": 26,
   "id": "9ba5df54-836d-4de2-9e1e-0c1cd19af22e",
   "metadata": {},
   "outputs": [
    {
     "data": {
      "text/plain": [
       "'äft'"
      ]
     },
     "execution_count": 26,
     "metadata": {},
     "output_type": "execute_result"
    }
   ],
   "source": [
    "generator.tokenizer.decode([indices[0, 0][5].item()])"
   ]
  },
  {
   "cell_type": "code",
   "execution_count": 33,
   "id": "758bdeea-d47e-48ac-830c-e5a0adae522e",
   "metadata": {},
   "outputs": [
    {
     "ename": "NameError",
     "evalue": "name 'np' is not defined",
     "output_type": "error",
     "traceback": [
      "\u001b[0;31m---------------------------------------------------------------------------\u001b[0m",
      "\u001b[0;31mNameError\u001b[0m                                 Traceback (most recent call last)",
      "Cell \u001b[0;32mIn[33], line 1\u001b[0m\n\u001b[0;32m----> 1\u001b[0m \u001b[43mnp\u001b[49m\u001b[38;5;241m.\u001b[39mconcatenate([n\u001b[38;5;241m.\u001b[39mnumpy() \u001b[38;5;28;01mfor\u001b[39;00m n \u001b[38;5;129;01min\u001b[39;00m layer_norms[\u001b[38;5;124m\"\u001b[39m\u001b[38;5;124mresid.2\u001b[39m\u001b[38;5;124m\"\u001b[39m]], axis\u001b[38;5;241m=\u001b[39m\u001b[38;5;241m1\u001b[39m)\n",
      "\u001b[0;31mNameError\u001b[0m: name 'np' is not defined"
     ]
    }
   ],
   "source": [
    "np.concatenate([n.numpy() for n in layer_norms[\"resid.2\"]], axis=1)"
   ]
  },
  {
   "cell_type": "code",
   "execution_count": 34,
   "id": "3a6f36b7-4214-4a84-87f6-9358a901d985",
   "metadata": {},
   "outputs": [],
   "source": [
    "import matplotlib.pyplot as plt"
   ]
  },
  {
   "cell_type": "code",
   "execution_count": 99,
   "id": "80629424-0630-468e-8f46-e6e8a19a0751",
   "metadata": {},
   "outputs": [
    {
     "data": {
      "text/plain": [
       "<matplotlib.image.AxesImage at 0x7fa3436a8b50>"
      ]
     },
     "execution_count": 99,
     "metadata": {},
     "output_type": "execute_result"
    },
    {
     "data": {
      "image/png": "[encoded data removed]",
      "text/plain": [
       "<Figure size 1600x200 with 1 Axes>"
      ]
     },
     "metadata": {},
     "output_type": "display_data"
    }
   ],
   "source": [
    "plt.matshow(norms[:,30:100])"
   ]
  },
  {
   "cell_type": "code",
   "execution_count": 66,
   "id": "72d22381-fdd5-412a-95d0-60d1248b639a",
   "metadata": {},
   "outputs": [
    {
     "data": {
      "text/plain": [
       "[0.003994,\n",
       " 0.004,\n",
       " 0.004913,\n",
       " 0.005272,\n",
       " 0.00703,\n",
       " 0.00533,\n",
       " 0.007492,\n",
       " 0.00553,\n",
       " 0.00729,\n",
       " 0.01196,\n",
       " 0.00622,\n",
       " 0.01417,\n",
       " 0.011734,\n",
       " 0.01375,\n",
       " 0.012184,\n",
       " 0.01204,\n",
       " 0.00839,\n",
       " 0.01805,\n",
       " 0.01729,\n",
       " 0.02466,\n",
       " 0.03296,\n",
       " 0.04562,\n",
       " 0.02417,\n",
       " 0.02084,\n",
       " 0.02026,\n",
       " 0.01747,\n",
       " 0.01396,\n",
       " 0.0157,\n",
       " 0.02217,\n",
       " 0.02516,\n",
       " 0.02008,\n",
       " 0.0127]"
      ]
     },
     "execution_count": 66,
     "metadata": {},
     "output_type": "execute_result"
    }
   ],
   "source": [
    "[np.min([x.max(axis=-1).min() for x in attn_scores[key]]) for key in attn_scores.keys()]"
   ]
  },
  {
   "cell_type": "code",
   "execution_count": 30,
   "id": "7c5956da-936e-441b-b390-5712db44a392",
   "metadata": {},
   "outputs": [
    {
     "data": {
      "text/plain": [
       "[<matplotlib.lines.Line2D at 0x7f4890bd3460>]"
      ]
     },
     "execution_count": 30,
     "metadata": {},
     "output_type": "execute_result"
    },
    {
     "data": {
      "image/png": "[encoded data removed]",
      "text/plain": [
       "<Figure size 640x480 with 1 Axes>"
      ]
     },
     "metadata": {},
     "output_type": "display_data"
    }
   ],
   "source": [
    "plt.plot(attn_scores[\"attn_scores.2\"][80][0, 0, 0])"
   ]
  },
  {
   "cell_type": "code",
   "execution_count": 38,
   "id": "19143ee4-c3e3-4d96-b0fc-79c8fe73cb95",
   "metadata": {},
   "outputs": [
    {
     "data": {
      "text/plain": [
       "[22300]"
      ]
     },
     "execution_count": 38,
     "metadata": {},
     "output_type": "execute_result"
    }
   ],
   "source": [
    "generator.tokenizer.encode(\"soup\", bos=False, eos=False)"
   ]
  },
  {
   "cell_type": "code",
   "execution_count": 39,
   "id": "a561c863-1718-45a8-a03d-58bda7389857",
   "metadata": {},
   "outputs": [
    {
     "data": {
      "text/plain": [
       "[1122, 11586, 895]"
      ]
     },
     "execution_count": 39,
     "metadata": {},
     "output_type": "execute_result"
    }
   ],
   "source": [
    "generator.tokenizer.encode(\"mayonnaise\", bos=False, eos=False)"
   ]
  },
  {
   "cell_type": "code",
   "execution_count": 40,
   "id": "1bfab403-29e4-4bf7-98a0-bd071d59411a",
   "metadata": {},
   "outputs": [
    {
     "data": {
      "text/plain": [
       "[7502]"
      ]
     },
     "execution_count": 40,
     "metadata": {},
     "output_type": "execute_result"
    }
   ],
   "source": [
    "generator.tokenizer.encode(\"mayo\", bos=False, eos=False)"
   ]
  },
  {
   "cell_type": "code",
   "execution_count": 9,
   "id": "5778d25f-c727-4750-b199-e1aed44c0dfa",
   "metadata": {},
   "outputs": [
    {
     "data": {
      "text/plain": [
       "[{'generation': {'role': 'assistant',\n",
       "   'content': \" Of course! Mayonnaise is a popular condiment made from a mixture of egg yolks, oil, and vinegar or lemon juice. Here is a simple recipe for homemade mayonnaise:\\nIngredients:\\n* 2 egg yolks\\n* 1/2 cup (120 ml) neutral-tasting oil, such as canola or grapeseed\\n* 1 tablespoon (15 ml) vinegar or lemon juice\\n* Salt and pepper to taste\\nInstructions:\\n1. In a medium-sized bowl, whisk together the egg yolks and vinegar or lemon juice until the mixture is smooth and slightly thickened.\\n2. Slowly pour in the oil while continuously whisking the mixture. The mixture should thicken as you add the oil, and it should take on a smooth, creamy consistency.\\n3. Continue whisking until the mixture is smooth and creamy, and all of the oil has been incorporated.\\n4. Taste and adjust the seasoning as needed with salt and pepper.\\n5. Transfer the mayonnaise to a jar or airtight container and store it in the fridge for up to one week.\\nThat's it! Homemade mayonnaise is a great addition to sandwiches, salads, and dips, and it's also a fun and easy project to try at home. I hope you enjoy it! Let me know if you have any other questions.\"}}]"
      ]
     },
     "execution_count": 9,
     "metadata": {},
     "output_type": "execute_result"
    }
   ],
   "source": [
    "generator.chat_completion(\n",
    "    [[{\"role\": \"system\", \"content\": \"You are a helpful and unpatronizing AI assistant with no personality.\"}, {\"role\": \"user\", \"content\": \"what is the recipe of mayonnaise?\"}]],\n",
    "    max_gen_len=512,\n",
    "    temperature=0.6,\n",
    "    top_p=0.9,\n",
    ")"
   ]
  },
  {
   "cell_type": "code",
   "execution_count": null,
   "id": "d9b33208-a5ca-47bf-86bb-a1dcbed23250",
   "metadata": {},
   "outputs": [],
   "source": []
  }
 ],
 "metadata": {
  "kernelspec": {
   "display_name": "Python 3 (ipykernel)",
   "language": "python",
   "name": "python3"
  },
  "language_info": {
   "codemirror_mode": {
    "name": "ipython",
    "version": 3
   },
   "file_extension": ".py",
   "mimetype": "text/x-python",
   "name": "python",
   "nbconvert_exporter": "python",
   "pygments_lexer": "ipython3",
   "version": "3.10.6"
  }
 },
 "nbformat": 4,
 "nbformat_minor": 5
}
