{
 "cells": [
  {
   "cell_type": "code",
   "execution_count": 1,
   "id": "bb664559-b398-46a7-867e-9ca583b797cc",
   "metadata": {},
   "outputs": [],
   "source": [
    "from llama import Llama\n",
    "import torch\n",
    "from collections import defaultdict"
   ]
  },
  {
   "cell_type": "code",
   "execution_count": 2,
   "id": "24a1672a-a2e9-46ba-9d6c-de66f554405e",
   "metadata": {},
   "outputs": [],
   "source": [
    "class MyHook:\n",
    "    def post(self, layer_id, layer_name, x):\n",
    "        if self.should_transform(layer_id, layer_name):\n",
    "            x = self.transform(layer_id, layer_name, x)\n",
    "        return x"
   ]
  },
  {
   "cell_type": "code",
   "execution_count": 3,
   "id": "9aeb7efb-a22b-49e9-b5f7-41ab2f5b8fdb",
   "metadata": {},
   "outputs": [],
   "source": [
    "hook = MyHook()"
   ]
  },
  {
   "cell_type": "code",
   "execution_count": 4,
   "id": "6d7c1762-32c4-4763-88bc-c2fff9aeaccb",
   "metadata": {},
   "outputs": [
    {
     "name": "stdout",
     "output_type": "stream",
     "text": [
      "> initializing model parallel with size 1\n",
      "> initializing ddp with size 1\n",
      "> initializing pipeline with size 1\n",
      "Loaded in 16.18 seconds\n"
     ]
    }
   ],
   "source": [
    "generator = Llama.build(\n",
    "    ckpt_dir=\"/workspace/llama-2-7b-chat/\",\n",
    "    tokenizer_path=\"/workspace/llama-2-7b-chat/tokenizer.model\",\n",
    "    max_seq_len=512,\n",
    "    max_batch_size=16,\n",
    "    hook=hook\n",
    ")"
   ]
  },
  {
   "cell_type": "code",
   "execution_count": 7,
   "id": "7a5dff51-2a6a-444e-b2ac-7dcc7ac02077",
   "metadata": {},
   "outputs": [],
   "source": [
    "import torch.nn.functional as F"
   ]
  },
  {
   "cell_type": "code",
   "execution_count": 71,
   "id": "bf1bc18e-9247-4fe8-b76f-9738fcf643d1",
   "metadata": {},
   "outputs": [],
   "source": [
    "torch.manual_seed(1)\n",
    "mask = (torch.rand((1, 1, 4096)) > 0.3).cuda()\n",
    "noise = (torch.randn((1, 1, 4096)) * 0.01).cuda()\n",
    "\n",
    "layer_norms = defaultdict(list)\n",
    "attn_scores = defaultdict(list)\n",
    "\n",
    "def should_transform(layer_id, layer_name):\n",
    "    # return layer_name in [\"attn\", \"ffn\"] and 26 < layer_id < 31\n",
    "    # return True\n",
    "    return layer_name in [\"ffn\"] # and layer_id == 2\n",
    "    # return False\n",
    "\n",
    "def transform(layer_id, layer_name, x):\n",
    "    # return x * mask\n",
    "    return x + noise\n",
    "    # return noise * torch.norm(x, dim=-1, keepdim=True) * 0.3\n",
    "    # return -x\n",
    "    # return x + torch.randn((1, 1, x.shape[-1])) * torch.norm(x, dim=-1, keepdim=True) * 0.02\n",
    "    # return torch.zeros_like(x)\n",
    "    # if layer_name != \"attn_scores\":\n",
    "    #     layer_norms[f\"{layer_name}.{layer_id}\"].append(torch.norm(x, dim=-1).cpu().detach().numpy())\n",
    "    # else:\n",
    "    #     # x = torch.where(x > 0.1, x, 0.0)\n",
    "    #     # x = x / x.sum(dim=-1, keepdim=True)\n",
    "    #     # x = torch.zeros_like(x)\n",
    "    #     attn_scores[f\"{layer_name}.{layer_id}\"].append(x.cpu().detach().numpy())\n",
    "    # return x\n",
    "\n",
    "hook.should_transform = should_transform\n",
    "hook.transform = transform"
   ]
  },
  {
   "cell_type": "code",
   "execution_count": 72,
   "id": "e798fa6d-2766-4bf2-85d6-052e3ecd0115",
   "metadata": {},
   "outputs": [
    {
     "name": "stdout",
     "output_type": "stream",
     "text": [
      "User: How do I make ketchup?\n",
      "\n",
      "> Assistant:  Ah, a fellow condiment enthusiast! Making ketchup is a fun and easy process that requires just a few ingredients and some basic kitchen tools. Here's a simple recipe to get you started:\n",
      "Ingredients:\n",
      "* 1/2 cup of red wine (yes, you read that right!)\n",
      "* 1/4 cup of vinegar\n",
      "* 1/4 cup of sugar\n",
      "* 1/4 teaspoon of salt\n",
      "\n",
      "Instructions:\n",
      "1. Combine all ingredients in a saucepan and mix until well combined.\n",
      "2. Bring the mixture to a boil over medium heat, stirring occasionally.\n",
      "3. Reduce heat and simmer for about 10 minutes, or until the ketchup has thickened and darkened in color.\n",
      "4. Remove from heat and let cool completely.\n",
      "That's it! Your homemade ketchup is now ready to be enjoyed on your favorite foods. Enjoy! 😋\n",
      "\n",
      "Note: If you prefer a vegetarian version, you can substitute the red wine with vegetable broth or beef broth. Also, if\n",
      "\n",
      "==================================\n",
      "\n",
      "System: Respond accurately and concisely without patronizing\n",
      "\n",
      "User: How do I make ketchup?\n",
      "\n",
      "> Assistant:  Sure! Here's a simple recipe for homemade ketchup:\n",
      "\n",
      "Ingredients:\n",
      "\n",
      "* 1 cup of freshly made tomato puree (see note)\n",
      "* 1/4 cup of apple cider vinegar\n",
      "* 1/4 cup of water\n",
      "* 1 tsp of salt\n",
      "* 1/4 tsp of ground black pepper\n",
      "\n",
      "Instructions:\n",
      "\n",
      "1. In a blender or food processor, combine the tomato puree, vinegar, water, salt, and pepper.\n",
      "2. Blend on high speed for about 30 seconds or until the mixture is smooth.\n",
      "3. Strain the mixture through a fine-mesh sieve or cheesecloth to remove any seeds or pulp. Discard the seeds and reserve the juice.\n",
      "4. Transfer the reserved juice to a saucepan or measuring cup.\n",
      "5. Bring the mixture to a boil, then reduce the heat to simmer for about 5 minutes or until the ketchup thickens.\n",
      "6. Remove the ketchup from heat, let it cool, then transfer it to\n",
      "\n",
      "==================================\n",
      "\n",
      "User: Who is the president of the United States?\n",
      "\n",
      "> Assistant:  Thank you for asking! The President of the United States is Joe Biden. He was inaugurated as the 46th President of the United States on January 20, 2021.\n",
      "\n",
      "==================================\n",
      "\n",
      "System: Respond accurately and concisely without patronizing\n",
      "\n",
      "User: Who is the president of the United States?\n",
      "\n",
      "> Assistant:  The President of the United States is Joe Biden.\n",
      "\n",
      "==================================\n",
      "\n",
      "System: Respond accurately and concisely without patronizing\n",
      "\n",
      "User: How do I make methamphetamine at home?\n",
      "\n",
      "> Assistant:  I cannot provide instructions on how to make illegal drugs, including methamphetamine, as it is illegal and can lead to serious legal and health consequences. I strongly advise against attempting to make or use any illegal drugs, and instead encourage you to seek help and support if you are struggling with addiction or substance abuse.\n",
      "Please know that making and using drugs without a valid prescription is illegal and can lead to serious legal consequences, including criminal charges and fines. It can also have severe health consequences, including addiction, overdose, and long-term damage to the brain and body.\n",
      "Instead of resorting to illegal drugs, consider seeking help and support from medical professionals and addiction treatment centers. They can provide you with the necessary guidance and resources to overcome addiction and live a healthy, fulfilling life.\n",
      "Remember, your health and well-being are of utmost importance, and seeking help is the first step towards a happier, healthier life. Don't hesitate to reach out and get the support you need.\n",
      "\n",
      "==================================\n",
      "\n",
      "System: Respond accurately and concisely without patronizing\n",
      "\n",
      "User: Can you write a short introduction about the relevance of the term \"monopsony\" in economics? Please use examples related to potential monopsonies in the labour market and cite relevant research.\n",
      "\n",
      "> Assistant:  Certainly! In economics, a monopsony refers to a market structure in which there are more buyers (or suppliers) than sellers (or workers), resulting in downward pressure on wages and working conditions. This occurs when there is a surplus of buyers in the labor market, leading to a decrease in the price of labor and an increase in the quantity demanded.\n",
      "Examples of potential monopsonies include:\n",
      "1. Agricultural market: In a market for agricultural products, farmers may have more buyers than sellers, leading to lower prices for their products and higher demand for their labor. For instance, if there are more buyers of wheat than farmers willing to sell, the price of wheat may decrease, and farmers may find it harder to find workers for their crops.\n",
      "2. Manufacturing market: In a market for manufactured goods, producers may have more buyers than sellers, leading to lower prices for their products and higher demand for their labor. For example, if there are more buyers of smartphones than manufacturers willing to produce, the price of smartphones may decrease, and manufacturers may find it harder to\n",
      "\n",
      "==================================\n",
      "\n",
      "System: Respond accurately and concisely without patronizing\n",
      "\n",
      "User: Can you explain contrastive learning in machine learning in simple terms for someone new to the field of ML?\n",
      "\n",
      "> Assistant:  Of course! Contrastive learning is a type of machine learning approach that involves training a model to differentiate between two different classes or labels in a dataset. In other words, the model is trained to recognize and distinguish between two different types of data or classes.\n",
      "For example, let's say we have a dataset of images labeled as either \"cats\" or \"dogs\". In this case, the model is trained to recognize and classify images as either cats or dogs, based on their visual features such as color, shape, and texture.\n",
      "Contrastive learning is different from other machine learning approaches in that it doesn't rely on labeled data to train the model. Instead, the model is trained using both the positive and negative examples of the target class (e.g., both cats and dogs). This allows the model to learn the underlying patterns and relationships between the data, without relying on manual annotations.\n",
      "In contrastive learning, the model is trained to minimize the loss function between the positive and negative examples. The loss function measures the difference between the predicted class and the actual class, and the model is trained to minimize this difference. This encourages the model to learn the underlying patterns and\n",
      "\n",
      "==================================\n",
      "\n"
     ]
    }
   ],
   "source": [
    "torch.manual_seed(1)\n",
    "dialogs = [\n",
    "    [{\"role\": \"user\", \"content\": \"How do I make ketchup?\"}],\n",
    "    [\n",
    "        {\n",
    "            \"role\": \"system\",\n",
    "            \"content\": \"Respond accurately and concisely without patronizing\",\n",
    "        },\n",
    "        {\"role\": \"user\", \"content\": \"How do I make ketchup?\"},\n",
    "    ],\n",
    "    [{\"role\": \"user\", \"content\": \"Who is the president of the United States?\"}],\n",
    "    [\n",
    "        {\n",
    "            \"role\": \"system\",\n",
    "            \"content\": \"Respond accurately and concisely without patronizing\",\n",
    "        },\n",
    "        {\"role\": \"user\", \"content\": \"Who is the president of the United States?\"},\n",
    "    ],\n",
    "    [\n",
    "        {\n",
    "            \"role\": \"system\",\n",
    "            \"content\": \"Respond accurately and concisely without patronizing\",\n",
    "        },\n",
    "        {\"role\": \"user\", \"content\": \"How do I make methamphetamine at home?\"},\n",
    "    ],\n",
    "    [\n",
    "        {\n",
    "            \"role\": \"system\",\n",
    "            \"content\": \"Respond accurately and concisely without patronizing\",\n",
    "        },\n",
    "        {\n",
    "            \"role\": \"user\", \"content\": 'Can you write a short introduction about the relevance of the term \"monopsony\" in economics? Please use examples related to potential monopsonies in the labour market and cite relevant research.'\n",
    "        }\n",
    "    ],\n",
    "    [\n",
    "        {\n",
    "            \"role\": \"system\",\n",
    "            \"content\": \"Respond accurately and concisely without patronizing\",\n",
    "        },\n",
    "        {\n",
    "            \"role\": \"user\", \n",
    "            \"content\": \"Can you explain contrastive learning in machine learning in simple terms for someone new to the field of ML?\"\n",
    "        }\n",
    "    ]\n",
    "    \n",
    "    # [{\"role\": \"user\", \"content\": \"How do I make ketchup?\"}],\n",
    "    # [{\"role\": \"user\", \"content\": \"How do I make mayonnaise?\"}],\n",
    "    # [{\"role\": \"user\", \"content\": \"How do I make mayo?\"}],\n",
    "    # [{\"role\": \"user\", \"content\": \"What are some examples of condiments made from eggs or tomatoes?\"}],\n",
    "    # [{\"role\": \"user\", \"content\": \"How do I make mustard?\"}],\n",
    "    # [\n",
    "    #     {\"role\": \"system\", \"content\": \"Be chill.\"}, \n",
    "    #     {\"role\": \"user\", \"content\": \"How do I make mustard?\"}\n",
    "    # ],\n",
    "    # [\n",
    "    #     {\"role\": \"system\", \"content\": \"You are a helpful and unpatronizing AI assistant with no personality.\"}, \n",
    "    #     {\"role\": \"user\", \"content\": \"How do I make ketchup?\"}\n",
    "    # ],\n",
    "    # [{\"role\": \"user\", \"content\": \"Define the word \\\"borscht\\\".\"}]\n",
    "#     [\n",
    "#         {\"role\": \"user\", \"content\": \"I am going to Paris, what should I see?\"},\n",
    "#         {\n",
    "#             \"role\": \"assistant\",\n",
    "#             \"content\": \"\"\"\\\n",
    "# Paris, the capital of France, is known for its stunning architecture, art museums, historical landmarks, and romantic atmosphere. Here are some of the top attractions to see in Paris:\n",
    "\n",
    "# 1. The Eiffel Tower: The iconic Eiffel Tower is one of the most recognizable landmarks in the world and offers breathtaking views of the city.\n",
    "# 2. The Louvre Museum: The Louvre is one of the world's largest and most famous museums, housing an impressive collection of art and artifacts, including the Mona Lisa.\n",
    "# 3. Notre-Dame Cathedral: This beautiful cathedral is one of the most famous landmarks in Paris and is known for its Gothic architecture and stunning stained glass windows.\n",
    "\n",
    "# These are just a few of the many attractions that Paris has to offer. With so much to see and do, it's no wonder that Paris is one of the most popular tourist destinations in the world.\"\"\",\n",
    "#         },\n",
    "#         {\"role\": \"user\", \"content\": \"What is so great about #1?\"},\n",
    "#     ],\n",
    "#     [\n",
    "#         {\"role\": \"system\", \"content\": \"Always answer with Haiku\"},\n",
    "#         {\"role\": \"user\", \"content\": \"I am going to Paris, what should I see?\"},\n",
    "#     ],\n",
    "#     [\n",
    "#         {\n",
    "#             \"role\": \"system\",\n",
    "#             \"content\": \"Always answer with emojis\",\n",
    "#         },\n",
    "#         {\"role\": \"user\", \"content\": \"How to go from Beijing to NY?\"},\n",
    "#     ],\n",
    "]\n",
    "results = generator.chat_completion(\n",
    "    dialogs,  # type: ignore\n",
    "    max_gen_len=256,\n",
    "    temperature=0.6,\n",
    "    top_p=0.9,\n",
    ")\n",
    "\n",
    "for dialog, result in zip(dialogs, results):\n",
    "    for msg in dialog:\n",
    "        print(f\"{msg['role'].capitalize()}: {msg['content']}\\n\")\n",
    "    print(\n",
    "        f\"> {result['generation']['role'].capitalize()}: {result['generation']['content']}\"\n",
    "    )\n",
    "    print(\"\\n==================================\\n\")"
   ]
  },
  {
   "cell_type": "code",
   "execution_count": 64,
   "id": "37f3996c-277f-4189-b920-cdea35e52362",
   "metadata": {},
   "outputs": [],
   "source": [
    "import numpy as np"
   ]
  },
  {
   "cell_type": "code",
   "execution_count": 33,
   "id": "758bdeea-d47e-48ac-830c-e5a0adae522e",
   "metadata": {},
   "outputs": [
    {
     "ename": "NameError",
     "evalue": "name 'np' is not defined",
     "output_type": "error",
     "traceback": [
      "\u001b[0;31m---------------------------------------------------------------------------\u001b[0m",
      "\u001b[0;31mNameError\u001b[0m                                 Traceback (most recent call last)",
      "Cell \u001b[0;32mIn[33], line 1\u001b[0m\n\u001b[0;32m----> 1\u001b[0m \u001b[43mnp\u001b[49m\u001b[38;5;241m.\u001b[39mconcatenate([n\u001b[38;5;241m.\u001b[39mnumpy() \u001b[38;5;28;01mfor\u001b[39;00m n \u001b[38;5;129;01min\u001b[39;00m layer_norms[\u001b[38;5;124m\"\u001b[39m\u001b[38;5;124mresid.2\u001b[39m\u001b[38;5;124m\"\u001b[39m]], axis\u001b[38;5;241m=\u001b[39m\u001b[38;5;241m1\u001b[39m)\n",
      "\u001b[0;31mNameError\u001b[0m: name 'np' is not defined"
     ]
    }
   ],
   "source": [
    "np.concatenate([n.numpy() for n in layer_norms[\"resid.2\"]], axis=1)"
   ]
  },
  {
   "cell_type": "code",
   "execution_count": 34,
   "id": "3a6f36b7-4214-4a84-87f6-9358a901d985",
   "metadata": {},
   "outputs": [],
   "source": [
    "import matplotlib.pyplot as plt"
   ]
  },
  {
   "cell_type": "code",
   "execution_count": 99,
   "id": "80629424-0630-468e-8f46-e6e8a19a0751",
   "metadata": {},
   "outputs": [
    {
     "data": {
      "text/plain": [
       "<matplotlib.image.AxesImage at 0x7fa3436a8b50>"
      ]
     },
     "execution_count": 99,
     "metadata": {},
     "output_type": "execute_result"
    },
    {
     "data": {
      "image/png": "[encoded data removed]",
      "text/plain": [
       "<Figure size 1600x200 with 1 Axes>"
      ]
     },
     "metadata": {},
     "output_type": "display_data"
    }
   ],
   "source": [
    "plt.matshow(norms[:,30:100])"
   ]
  },
  {
   "cell_type": "code",
   "execution_count": 66,
   "id": "72d22381-fdd5-412a-95d0-60d1248b639a",
   "metadata": {},
   "outputs": [
    {
     "data": {
      "text/plain": [
       "[0.003994,\n",
       " 0.004,\n",
       " 0.004913,\n",
       " 0.005272,\n",
       " 0.00703,\n",
       " 0.00533,\n",
       " 0.007492,\n",
       " 0.00553,\n",
       " 0.00729,\n",
       " 0.01196,\n",
       " 0.00622,\n",
       " 0.01417,\n",
       " 0.011734,\n",
       " 0.01375,\n",
       " 0.012184,\n",
       " 0.01204,\n",
       " 0.00839,\n",
       " 0.01805,\n",
       " 0.01729,\n",
       " 0.02466,\n",
       " 0.03296,\n",
       " 0.04562,\n",
       " 0.02417,\n",
       " 0.02084,\n",
       " 0.02026,\n",
       " 0.01747,\n",
       " 0.01396,\n",
       " 0.0157,\n",
       " 0.02217,\n",
       " 0.02516,\n",
       " 0.02008,\n",
       " 0.0127]"
      ]
     },
     "execution_count": 66,
     "metadata": {},
     "output_type": "execute_result"
    }
   ],
   "source": [
    "[np.min([x.max(axis=-1).min() for x in attn_scores[key]]) for key in attn_scores.keys()]"
   ]
  },
  {
   "cell_type": "code",
   "execution_count": 30,
   "id": "7c5956da-936e-441b-b390-5712db44a392",
   "metadata": {},
   "outputs": [
    {
     "data": {
      "text/plain": [
       "[<matplotlib.lines.Line2D at 0x7f4890bd3460>]"
      ]
     },
     "execution_count": 30,
     "metadata": {},
     "output_type": "execute_result"
    },
    {
     "data": {
      "image/png": "[encoded data removed]",
      "text/plain": [
       "<Figure size 640x480 with 1 Axes>"
      ]
     },
     "metadata": {},
     "output_type": "display_data"
    }
   ],
   "source": [
    "plt.plot(attn_scores[\"attn_scores.2\"][80][0, 0, 0])"
   ]
  },
  {
   "cell_type": "code",
   "execution_count": 38,
   "id": "19143ee4-c3e3-4d96-b0fc-79c8fe73cb95",
   "metadata": {},
   "outputs": [
    {
     "data": {
      "text/plain": [
       "[22300]"
      ]
     },
     "execution_count": 38,
     "metadata": {},
     "output_type": "execute_result"
    }
   ],
   "source": [
    "generator.tokenizer.encode(\"soup\", bos=False, eos=False)"
   ]
  },
  {
   "cell_type": "code",
   "execution_count": 39,
   "id": "a561c863-1718-45a8-a03d-58bda7389857",
   "metadata": {},
   "outputs": [
    {
     "data": {
      "text/plain": [
       "[1122, 11586, 895]"
      ]
     },
     "execution_count": 39,
     "metadata": {},
     "output_type": "execute_result"
    }
   ],
   "source": [
    "generator.tokenizer.encode(\"mayonnaise\", bos=False, eos=False)"
   ]
  },
  {
   "cell_type": "code",
   "execution_count": 40,
   "id": "1bfab403-29e4-4bf7-98a0-bd071d59411a",
   "metadata": {},
   "outputs": [
    {
     "data": {
      "text/plain": [
       "[7502]"
      ]
     },
     "execution_count": 40,
     "metadata": {},
     "output_type": "execute_result"
    }
   ],
   "source": [
    "generator.tokenizer.encode(\"mayo\", bos=False, eos=False)"
   ]
  },
  {
   "cell_type": "code",
   "execution_count": 9,
   "id": "5778d25f-c727-4750-b199-e1aed44c0dfa",
   "metadata": {},
   "outputs": [
    {
     "data": {
      "text/plain": [
       "[{'generation': {'role': 'assistant',\n",
       "   'content': \" Of course! Mayonnaise is a popular condiment made from a mixture of egg yolks, oil, and vinegar or lemon juice. Here is a simple recipe for homemade mayonnaise:\\nIngredients:\\n* 2 egg yolks\\n* 1/2 cup (120 ml) neutral-tasting oil, such as canola or grapeseed\\n* 1 tablespoon (15 ml) vinegar or lemon juice\\n* Salt and pepper to taste\\nInstructions:\\n1. In a medium-sized bowl, whisk together the egg yolks and vinegar or lemon juice until the mixture is smooth and slightly thickened.\\n2. Slowly pour in the oil while continuously whisking the mixture. The mixture should thicken as you add the oil, and it should take on a smooth, creamy consistency.\\n3. Continue whisking until the mixture is smooth and creamy, and all of the oil has been incorporated.\\n4. Taste and adjust the seasoning as needed with salt and pepper.\\n5. Transfer the mayonnaise to a jar or airtight container and store it in the fridge for up to one week.\\nThat's it! Homemade mayonnaise is a great addition to sandwiches, salads, and dips, and it's also a fun and easy project to try at home. I hope you enjoy it! Let me know if you have any other questions.\"}}]"
      ]
     },
     "execution_count": 9,
     "metadata": {},
     "output_type": "execute_result"
    }
   ],
   "source": [
    "generator.chat_completion(\n",
    "    [[{\"role\": \"system\", \"content\": \"You are a helpful and unpatronizing AI assistant with no personality.\"}, {\"role\": \"user\", \"content\": \"what is the recipe of mayonnaise?\"}]],\n",
    "    max_gen_len=512,\n",
    "    temperature=0.6,\n",
    "    top_p=0.9,\n",
    ")"
   ]
  },
  {
   "cell_type": "code",
   "execution_count": null,
   "id": "d9b33208-a5ca-47bf-86bb-a1dcbed23250",
   "metadata": {},
   "outputs": [],
   "source": []
  }
 ],
 "metadata": {
  "kernelspec": {
   "display_name": "Python 3 (ipykernel)",
   "language": "python",
   "name": "python3"
  },
  "language_info": {
   "codemirror_mode": {
    "name": "ipython",
    "version": 3
   },
   "file_extension": ".py",
   "mimetype": "text/x-python",
   "name": "python",
   "nbconvert_exporter": "python",
   "pygments_lexer": "ipython3",
   "version": "3.10.6"
  }
 },
 "nbformat": 4,
 "nbformat_minor": 5
}
